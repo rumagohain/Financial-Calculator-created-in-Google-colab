{
  "nbformat": 4,
  "nbformat_minor": 0,
  "metadata": {
    "colab": {
      "provenance": [],
      "collapsed_sections": [
        "szp5flp1fA8-",
        "r1AM-AcqkbyF",
        "8wXbGsoYkm60",
        "tBxuJtHck2Oo",
        "s3z_zaNWlet8",
        "lnP9BOpPlhdK",
        "yoavB8H_ljVn",
        "MlRfYVIylkQf",
        "NGH1FcttllvS",
        "Sx0kwIdalmmY",
        "S-DVSzwDvKvE",
        "iaEBltZXln-Q",
        "8vdTo36Pl0yv",
        "U_7bv7aG4UJe",
        "B7DOz9nh4XAb",
        "cqvLtj7t4VMN",
        "GsLj1NhZl1ya",
        "d7Lc9KfMYU8Y",
        "VkD30ljxlyw9",
        "bJzxcKIfz8Qt",
        "8iWUAktvPLYp",
        "rzaQj8dEOfzb"
      ]
    },
    "kernelspec": {
      "name": "python3",
      "display_name": "Python 3"
    },
    "language_info": {
      "name": "python"
    },
    "widgets": {
      "application/vnd.jupyter.widget-state+json": {
        "9e453b4413474c9697f96e59796fe399": {
          "model_module": "@jupyter-widgets/controls",
          "model_name": "VBoxModel",
          "model_module_version": "1.5.0",
          "state": {
            "_dom_classes": [
              "widget-interact"
            ],
            "_model_module": "@jupyter-widgets/controls",
            "_model_module_version": "1.5.0",
            "_model_name": "VBoxModel",
            "_view_count": null,
            "_view_module": "@jupyter-widgets/controls",
            "_view_module_version": "1.5.0",
            "_view_name": "VBoxView",
            "box_style": "",
            "children": [
              "IPY_MODEL_b0dcd27d651d4940aa8666bb5abee1a8",
              "IPY_MODEL_c5bddffe89cc467d9a9735617a73069e",
              "IPY_MODEL_afbe78d2d05a4db2ba695371fa20a082",
              "IPY_MODEL_6949fc4e9477400eaec76abf9c37e532"
            ],
            "layout": "IPY_MODEL_69e68cad681444929dcdef1a656e79b8"
          }
        },
        "b0dcd27d651d4940aa8666bb5abee1a8": {
          "model_module": "@jupyter-widgets/controls",
          "model_name": "IntSliderModel",
          "model_module_version": "1.5.0",
          "state": {
            "_dom_classes": [],
            "_model_module": "@jupyter-widgets/controls",
            "_model_module_version": "1.5.0",
            "_model_name": "IntSliderModel",
            "_view_count": null,
            "_view_module": "@jupyter-widgets/controls",
            "_view_module_version": "1.5.0",
            "_view_name": "IntSliderView",
            "continuous_update": true,
            "description": "a",
            "description_tooltip": null,
            "disabled": false,
            "layout": "IPY_MODEL_dc2845acbdc6457d976378a34d389418",
            "max": 9,
            "min": -9,
            "orientation": "horizontal",
            "readout": true,
            "readout_format": "d",
            "step": 1,
            "style": "IPY_MODEL_103044da3fbe4650b18f06e7c27864f6",
            "value": 0
          }
        },
        "c5bddffe89cc467d9a9735617a73069e": {
          "model_module": "@jupyter-widgets/controls",
          "model_name": "IntSliderModel",
          "model_module_version": "1.5.0",
          "state": {
            "_dom_classes": [],
            "_model_module": "@jupyter-widgets/controls",
            "_model_module_version": "1.5.0",
            "_model_name": "IntSliderModel",
            "_view_count": null,
            "_view_module": "@jupyter-widgets/controls",
            "_view_module_version": "1.5.0",
            "_view_name": "IntSliderView",
            "continuous_update": true,
            "description": "b",
            "description_tooltip": null,
            "disabled": false,
            "layout": "IPY_MODEL_f0480bec6f1c4ed9b0fb71a7943c7352",
            "max": 9,
            "min": -9,
            "orientation": "horizontal",
            "readout": true,
            "readout_format": "d",
            "step": 1,
            "style": "IPY_MODEL_6c7c52daa6ac4017a279621fad2b0718",
            "value": 0
          }
        },
        "afbe78d2d05a4db2ba695371fa20a082": {
          "model_module": "@jupyter-widgets/controls",
          "model_name": "IntSliderModel",
          "model_module_version": "1.5.0",
          "state": {
            "_dom_classes": [],
            "_model_module": "@jupyter-widgets/controls",
            "_model_module_version": "1.5.0",
            "_model_name": "IntSliderModel",
            "_view_count": null,
            "_view_module": "@jupyter-widgets/controls",
            "_view_module_version": "1.5.0",
            "_view_name": "IntSliderView",
            "continuous_update": true,
            "description": "c",
            "description_tooltip": null,
            "disabled": false,
            "layout": "IPY_MODEL_35ad619f3f714042a93d40283553fe32",
            "max": 9,
            "min": -9,
            "orientation": "horizontal",
            "readout": true,
            "readout_format": "d",
            "step": 1,
            "style": "IPY_MODEL_6f969e3e99db465d9d2c87c49839c14e",
            "value": 0
          }
        },
        "6949fc4e9477400eaec76abf9c37e532": {
          "model_module": "@jupyter-widgets/output",
          "model_name": "OutputModel",
          "model_module_version": "1.0.0",
          "state": {
            "_dom_classes": [],
            "_model_module": "@jupyter-widgets/output",
            "_model_module_version": "1.0.0",
            "_model_name": "OutputModel",
            "_view_count": null,
            "_view_module": "@jupyter-widgets/output",
            "_view_module_version": "1.0.0",
            "_view_name": "OutputView",
            "layout": "IPY_MODEL_49ab5a32733242f4845b75209024ee7b",
            "msg_id": "",
            "outputs": [
              {
                "output_type": "display_data",
                "data": {
                  "text/plain": "<Figure size 640x480 with 1 Axes>",
                  "image/png": "iVBORw0KGgoAAAANSUhEUgAAAkcAAAGiCAYAAADtImJbAAAAOXRFWHRTb2Z0d2FyZQBNYXRwbG90bGliIHZlcnNpb24zLjcuMSwgaHR0cHM6Ly9tYXRwbG90bGliLm9yZy/bCgiHAAAACXBIWXMAAA9hAAAPYQGoP6dpAAAq4klEQVR4nO3de3BUVYLH8V8HSAcSuiMQ8tAQAipBEUSUmOyMwpA1ODiKQzGKzACKOLqBUcO4EktBYN2gojI+VrSWSdxSV2FL8bEOLg+B0kQeAUZhIGuYQHh1fDBJQzN2QnL2D4veE5KOBpPu0Hw/VbfKe+45957Dge6f957udhhjjAAAACBJigp3BwAAADoTwhEAAICFcAQAAGAhHAEAAFgIRwAAABbCEQAAgIVwBAAAYCEcAQAAWAhHAAAAFsIRAACApUPD0caNG/WLX/xCKSkpcjgcWrlyZZPjxhjNnTtXycnJ6t69u3JycvTFF19873lfeOEF9e/fXzExMcrMzNTmzZs7aAQAAOBc06HhyOfzadiwYXrhhRdaPP7EE0/o2Wef1dKlS7Vp0ybFxsYqNzdX3377bdBzvvnmm8rPz9e8efO0bds2DRs2TLm5ufryyy87ahgAAOAc4gjVD886HA69/fbbGj9+vKTv7hqlpKRo9uzZ+v3vfy9Jqq2tVWJiooqLi3Xrrbe2eJ7MzExdddVVev755yVJjY2NSk1N1axZszRnzpxQDAUAAESwruG6cGVlpTwej3JycgJlbrdbmZmZKi0tbTEc1dXVqaysTAUFBYGyqKgo5eTkqLS0NOi1/H6//H5/YL+xsVFHjx5V79695XA42mlEAACgIxljdOzYMaWkpCgqquMefoUtHHk8HklSYmJik/LExMTAsdN9/fXXamhoaLHNnj17gl6rsLBQ8+fP/5E9BgAAncGBAwd0wQUXdNj5wxaOQqmgoED5+fmB/draWvXr108HDhyQy+UKY88AtCefz6eUlBRJ0uHDhxUbGxvmHgFoT16vV6mpqerZs2eHXids4SgpKUmSVF1dreTk5EB5dXW1Lr/88hbb9OnTR126dFF1dXWT8urq6sD5WuJ0OuV0OpuVu1wuwhEQQbp06RL4b5fLRTgCIlRHL4kJ2/ccpaenKykpSWvXrg2Ueb1ebdq0SVlZWS22iY6O1ogRI5q0aWxs1Nq1a4O2AQAAaIsOvXN0/PhxVVRUBPYrKyu1Y8cO9erVS/369dN9992nf/mXf9FFF12k9PR0PfLII0pJSQl8ok2SxowZo5tvvlkzZ86UJOXn52vq1Km68sorNXLkSC1ZskQ+n0+33357Rw4FAACcIzo0HG3dulWjR48O7J9a9zN16lQVFxfrn//5n+Xz+XTXXXeppqZGP/nJT7Rq1SrFxMQE2uzdu1dff/11YP+WW27RV199pblz58rj8ejyyy/XqlWrmi3SBgAAOBMh+56jzsTr9crtdqu2tpY1R0AE8fl8iouLk/TdnWvWHAGRJVTv3/y2GgAAgIVwBAAAYCEcAQAAWAhHAAAAFsIRAACAhXAEAABgIRwBAABYCEcAAAAWwhEAAICFcAQAAGAhHAEAAFgIRwAAABbCEQAAgIVwBAAAYCEcAQAAWAhHAAAAFsIRAACAhXAEAABgIRwBAABYCEcAAAAWwhEAAICFcAQAAGAhHAEAAFgIRwAAABbCEQAAgIVwBAAAYCEcAQAAWAhHAAAAFsIRAACAhXAEAABgIRwBAABYCEcAAAAWwhEAAICFcAQAAGAhHAEAAFjCHo769+8vh8PRbMvLy2uxfnFxcbO6MTExIe41AACIVF3D3YEtW7aooaEhsL9z50794z/+oyZOnBi0jcvlUnl5eWDf4XB0aB8BAMC5I+zhKCEhocn+okWLNHDgQF177bVB2zgcDiUlJXV01wAAwDko7I/VbHV1dXr11Vd1xx13tHo36Pjx40pLS1Nqaqpuuukm7dq1q9Xz+v1+eb3eJhsAAEBLOlU4WrlypWpqajRt2rSgdQYNGqQ//vGPeuedd/Tqq6+qsbFR2dnZOnjwYNA2hYWFcrvdgS01NbUDeg8AACKBwxhjwt2JU3JzcxUdHa333nvvB7epr6/X4MGDNWnSJC1cuLDFOn6/X36/P7Dv9XqVmpqq2tpauVyuH91vAJ2Dz+dTXFycpO/uMMfGxoa5RwDak9frldvt7vD377CvOTpl//79WrNmjd566602tevWrZuGDx+uioqKoHWcTqecTueP7SIAADgHdJrHakVFRerbt6/GjRvXpnYNDQ36/PPPlZyc3EE9AwAA55JOEY4aGxtVVFSkqVOnqmvXpjezpkyZooKCgsD+ggUL9D//8z/661//qm3btunXv/619u/frzvvvDPU3QYAABGoUzxWW7NmjaqqqnTHHXc0O1ZVVaWoqP/PcH/72980Y8YMeTwenXfeeRoxYoRKSkp0ySWXhLLLAAAgQnWqBdmhEqoFXQBCiwXZQGQL1ft3p3isBgAA0FkQjgAAACyEIwAAAAvhCAAAwEI4AgAAsBCOAAAALIQjAAAAC+EIAADAQjgCAACwEI4AAAAshCMAAAAL4QgAAMBCOAIAALAQjgAAACyEIwAAAAvhCAAAwEI4AgAAsBCOAAAALIQjAAAAC+EIAADAQjgCAACwEI4AAAAshCMAAAAL4QgAAMBCOAIAALAQjgAAACyEIwAAAAvhCAAAwEI4AgAAsBCOAAAALIQjAAAAC+EIAADAQjgCAACwEI4AAAAshCMAAABL2MPRo48+KofD0WTLyMhotc2KFSuUkZGhmJgYXXbZZfrggw9C1FsAABDpwh6OJOnSSy/VkSNHAtvHH38ctG5JSYkmTZqk6dOna/v27Ro/frzGjx+vnTt3hrDHAAAgUnWKcNS1a1clJSUFtj59+gSt+4c//EFjx47VAw88oMGDB2vhwoW64oor9Pzzz4ewxwAAIFJ1inD0xRdfKCUlRQMGDNDkyZNVVVUVtG5paalycnKalOXm5qq0tDRoG7/fL6/X22QDAABoSdjDUWZmpoqLi7Vq1Sq9+OKLqqys1E9/+lMdO3asxfoej0eJiYlNyhITE+XxeIJeo7CwUG63O7Clpqa26xgAAEDkCHs4uv766zVx4kQNHTpUubm5+uCDD1RTU6Ply5e32zUKCgpUW1sb2A4cONBu5wYAAJGla7g7cLr4+HhdfPHFqqioaPF4UlKSqqurm5RVV1crKSkp6DmdTqecTme79hMAAESmsN85Ot3x48e1d+9eJScnt3g8KytLa9eubVK2evVqZWVlhaJ7AAAgwoU9HP3+97/Xhg0btG/fPpWUlOjmm29Wly5dNGnSJEnSlClTVFBQEKh/7733atWqVXrqqae0Z88ePfroo9q6datmzpwZriEAAIAIEvbHagcPHtSkSZP0zTffKCEhQT/5yU/06aefKiEhQZJUVVWlqKj/z3DZ2dl6/fXX9fDDD+uhhx7SRRddpJUrV2rIkCHhGgIAAIggDmOMCXcnQs3r9crtdqu2tlYulyvc3QHQTnw+n+Li4iR994g+NjY2zD0C0J5C9f4d9sdqAAAAnQnhCAAAwEI4AgAAsBCOAAAALIQjAAAAC+EIAADAQjgCAACwEI4AAAAshCMAAAAL4QgAAMBCOAIAALAQjgAAACyEIwAAAAvhCAAAwEI4AgAAsBCOAAAALIQjAAAAC+EIAADAQjgCAACwEI4AAAAshCMAAAAL4QgAAMBCOAIAALAQjgAAACyEIwAAAAvhCAAAwEI4AgAAsBCOAAAALIQjAAAAC+EIAADAQjgCAACwEI4AAAAshCMAAAAL4QgAAMBCOAIAALAQjgAAACxhD0eFhYW66qqr1LNnT/Xt21fjx49XeXl5q22Ki4vlcDiabDExMSHqMQAAiGRhD0cbNmxQXl6ePv30U61evVr19fW67rrr5PP5Wm3ncrl05MiRwLZ///4Q9RgAAESyruHuwKpVq5rsFxcXq2/fviorK9M111wTtJ3D4VBSUtIPuobf75ff7w/se73eM+ssAACIeGG/c3S62tpaSVKvXr1arXf8+HGlpaUpNTVVN910k3bt2hW0bmFhodxud2BLTU1t1z4DAIDI4TDGmHB34pTGxkbdeOONqqmp0ccffxy0Xmlpqb744gsNHTpUtbW1Wrx4sTZu3Khdu3bpggsuaFa/pTtHqampqq2tlcvl6pCxAAg9n8+nuLg4Sd/9D1RsbGyYewSgPXm9Xrnd7g5//w77YzVbXl6edu7c2WowkqSsrCxlZWUF9rOzszV48GC99NJLWrhwYbP6TqdTTqez3fsLAAAiT6cJRzNnztT777+vjRs3tnj3pzXdunXT8OHDVVFR0UG9AwAA54qwrzkyxmjmzJl6++23tW7dOqWnp7f5HA0NDfr888+VnJzcAT0EAADnkrDfOcrLy9Prr7+ud955Rz179pTH45Ekud1ude/eXZI0ZcoUnX/++SosLJQkLViwQFdffbUuvPBC1dTU6Mknn9T+/ft15513hm0cAAAgMoQ9HL344ouSpFGjRjUpLyoq0rRp0yRJVVVVior6/5tcf/vb3zRjxgx5PB6dd955GjFihEpKSnTJJZeEqtsAACBCdapPq4VKqFa7AwgtPq0GRLZQvX+Hfc0RAABAZ0I4AgAAsBCOAAAALIQjAAAAC+EIAADAQjgCAACwEI4AAAAshCMAAAAL4QgAAMBCOAIAALAQjgAAACyEIwAAAAvhCAAAwEI4AgAAsBCOAAAALIQjAAAAC+EIAADAQjgCAACwEI4AAAAshCMAAAAL4QgAAMBCOAIAALAQjgAAACyEIwAAAAvhCAAAwEI4AgAAsBCOAAAALIQjAAAAC+EIAADAQjgCAACwEI4AAAAshCMAAAAL4QgAAMBCOAIAALAQjgAAACydIhy98MIL6t+/v2JiYpSZmanNmze3Wn/FihXKyMhQTEyMLrvsMn3wwQch6ikAAIh0XcPdgTfffFP5+flaunSpMjMztWTJEuXm5qq8vFx9+/ZtVr+kpESTJk1SYWGhbrjhBr3++usaP368tm3bpiFDhrTp2l//zSt/Q3uNBEC4nTjhk6ObU5L0dY1XJ+r4Bw5EkmNeb0iu4zDGmJBcKYjMzExdddVVev755yVJjY2NSk1N1axZszRnzpxm9W+55Rb5fD69//77gbKrr75al19+uZYuXdriNfx+v/x+f2Df6/UqNTVVqfctV5SzRzuPCAAAdIRG/wkdWPIr1dbWyuVyddh1wvpYra6uTmVlZcrJyQmURUVFKScnR6WlpS22KS0tbVJfknJzc4PWl6TCwkK53e7Alpqa2j4DAAAAESesj9W+/vprNTQ0KDExsUl5YmKi9uzZ02Ibj8fTYn2PxxP0OgUFBcrPzw/sn7pztP6+LPXswOQJILROnPApPT1dklRZWakePWLD3CMA7emY16uBSzr+OmFfcxQKTqdTTqezWXmf81wdelsOQGj5orvI1H/3CL1PvEuxsYQjIJI4u4TmOmF9rNanTx916dJF1dXVTcqrq6uVlJTUYpukpKQ21QcAAGiLsIaj6OhojRgxQmvXrg2UNTY2au3atcrKymqxTVZWVpP6krR69eqg9QEAANoi7I/V8vPzNXXqVF155ZUaOXKklixZIp/Pp9tvv12SNGXKFJ1//vkqLCyUJN1777269tpr9dRTT2ncuHF64403tHXrVr388svhHAYAAIgQYQ9Ht9xyi7766ivNnTtXHo9Hl19+uVatWhVYdF1VVaWoqP+/wZWdna3XX39dDz/8sB566CFddNFFWrlyZZu/4wgAAKAlYf+eo3Dwer1yu90d/j0JAELL5/MpLi5OknT8+HEWZAMRJlTv353i50MAAAA6C8IRAACAhXAEAABgIRwBAABYCEcAAAAWwhEAAICFcAQAAGAhHAEAAFgIRwAAABbCEQAAgIVwBAAAYCEcAQAAWAhHAAAAFsIRAACAhXAEAABgIRwBAABYCEcAAAAWwhEAAICFcAQAAGAhHAEAAFgIRwAAABbCEQAAgIVwBAAAYCEcAQAAWAhHAAAAFsIRAACAhXAEAABgIRwBAABYCEcAAAAWwhEAAICFcAQAAGAhHAEAAFgIRwAAABbCEQAAgIVwBAAAYAlbONq3b5+mT5+u9PR0de/eXQMHDtS8efNUV1fXartRo0bJ4XA02e6+++4Q9RoAAES6ruG68J49e9TY2KiXXnpJF154oXbu3KkZM2bI5/Np8eLFrbadMWOGFixYENjv0aNHR3cXAACcI8IWjsaOHauxY8cG9gcMGKDy8nK9+OKL3xuOevTooaSkpI7uIgAAOAd1qjVHtbW16tWr1/fWe+2119SnTx8NGTJEBQUFOnHiRKv1/X6/vF5vkw0AAKAlYbtzdLqKigo999xz33vX6LbbblNaWppSUlL02Wef6cEHH1R5ebneeuutoG0KCws1f/789u4yAACIQA5jjGnPE86ZM0ePP/54q3V2796tjIyMwP6hQ4d07bXXatSoUfr3f//3Nl1v3bp1GjNmjCoqKjRw4MAW6/j9fvn9/sC+1+tVamqqamtr5XK52nQ9AJ2Xz+dTXFycJOn48eOKjY0Nc48AtCev1yu3293h79/tfudo9uzZmjZtWqt1BgwYEPjvw4cPa/To0crOztbLL7/c5utlZmZKUqvhyOl0yul0tvncAADg3NPu4SghIUEJCQk/qO6hQ4c0evRojRgxQkVFRYqKavsSqB07dkiSkpOT29wWAADgdGFbkH3o0CGNGjVK/fr10+LFi/XVV1/J4/HI4/E0qZORkaHNmzdLkvbu3auFCxeqrKxM+/bt07vvvqspU6bommuu0dChQ8M1FAAAEEHCtiB79erVqqioUEVFhS644IImx04tg6qvr1d5eXng02jR0dFas2aNlixZIp/Pp9TUVE2YMEEPP/xwyPsPAAAiU7svyD4bhGpBF4DQYkE2ENlC9f7dqb7nCAAAINwIRwAAABbCEQAAgIVwBAAAYCEcAQAAWAhHAAAAFsIRAACAhXAEAABgIRwBAABYCEcAAAAWwhEAAICFcAQAAGAhHAEAAFgIRwAAABbCEQAAgIVwBAAAYCEcAQAAWAhHAAAAFsIRAACAhXAEAABgIRwBAABYCEcAAAAWwhEAAICFcAQAAGAhHAEAAFgIRwAAABbCEQAAgIVwBAAAYCEcAQAAWAhHAAAAFsIRAACAhXAEAABgIRwBAABYCEcAAAAWwhEAAIAlrOGof//+cjgcTbZFixa12ubbb79VXl6eevfurbi4OE2YMEHV1dUh6jEAAIh0Yb9ztGDBAh05ciSwzZo1q9X6999/v9577z2tWLFCGzZs0OHDh/XLX/4yRL0FAACRrmu4O9CzZ08lJSX9oLq1tbVatmyZXn/9df3sZz+TJBUVFWnw4MH69NNPdfXVV3dkVwEAwDkg7HeOFi1apN69e2v48OF68skndfLkyaB1y8rKVF9fr5ycnEBZRkaG+vXrp9LS0qDt/H6/vF5vkw0AAKAlYb1z9Lvf/U5XXHGFevXqpZKSEhUUFOjIkSN6+umnW6zv8XgUHR2t+Pj4JuWJiYnyeDxBr1NYWKj58+e3Z9cBAECEavc7R3PmzGm2yPr0bc+ePZKk/Px8jRo1SkOHDtXdd9+tp556Ss8995z8fn+79qmgoEC1tbWB7cCBA+16fgAAEDna/c7R7NmzNW3atFbrDBgwoMXyzMxMnTx5Uvv27dOgQYOaHU9KSlJdXZ1qamqa3D2qrq5udd2S0+mU0+n8Qf0HAADntnYPRwkJCUpISDijtjt27FBUVJT69u3b4vERI0aoW7duWrt2rSZMmCBJKi8vV1VVlbKyss64zwAAAKeEbc1RaWmpNm3apNGjR6tnz54qLS3V/fffr1//+tc677zzJEmHDh3SmDFj9B//8R8aOXKk3G63pk+frvz8fPXq1Usul0uzZs1SVlYWn1QDAADtImzhyOl06o033tCjjz4qv9+v9PR03X///crPzw/Uqa+vV3l5uU6cOBEoe+aZZxQVFaUJEybI7/crNzdX//Zv/xaOIQAAgAjkMMaYcHci1Lxer9xut2pra+VyucLdHQDtxOfzKS4uTpJ0/PhxxcbGhrlHANpTqN6/w/49RwAAAJ0J4QgAAMBCOAIAALAQjgAAACyEIwAAAAvhCAAAwEI4AgAAsBCOAAAALIQjAAAAC+EIAADAQjgCAACwEI4AAAAshCMAAAAL4QgAAMBCOAIAALAQjgAAACyEIwAAAAvhCAAAwEI4AgAAsBCOAAAALIQjAAAAC+EIAADAQjgCAACwEI4AAAAshCMAAAAL4QgAAMBCOAIAALAQjgAAACyEIwAAAAvhCAAAwEI4AgAAsBCOAAAALIQjAAAAC+EIAADAQjgCAACwhC0crV+/Xg6Ho8Vty5YtQduNGjWqWf277747hD0HAACRrGu4Lpydna0jR440KXvkkUe0du1aXXnlla22nTFjhhYsWBDY79GjR4f0EQAAnHvCFo6io6OVlJQU2K+vr9c777yjWbNmyeFwtNq2R48eTdoCAAC0l06z5ujdd9/VN998o9tvv/1767722mvq06ePhgwZooKCAp04caLV+n6/X16vt8kGAADQkrDdOTrdsmXLlJubqwsuuKDVerfddpvS0tKUkpKizz77TA8++KDKy8v11ltvBW1TWFio+fPnt3eXAQBABHIYY0x7nnDOnDl6/PHHW62ze/duZWRkBPYPHjyotLQ0LV++XBMmTGjT9datW6cxY8aooqJCAwcObLGO3++X3+8P7Hu9XqWmpqq2tlYul6tN1wPQefl8PsXFxUmSjh8/rtjY2DD3CEB78nq9crvdHf7+3e53jmbPnq1p06a1WmfAgAFN9ouKitS7d2/deOONbb5eZmamJLUajpxOp5xOZ5vPDQAAzj3tHo4SEhKUkJDwg+sbY1RUVKQpU6aoW7dubb7ejh07JEnJycltbgsAAHC6sC/IXrdunSorK3XnnXc2O3bo0CFlZGRo8+bNkqS9e/dq4cKFKisr0759+/Tuu+9qypQpuuaaazR06NBQdx0AAESgsC/IXrZsmbKzs5usQTqlvr5e5eXlgU+jRUdHa82aNVqyZIl8Pp9SU1M1YcIEPfzww6HuNgAAiFDtviD7bBCqBV0AQosF2UBkC9X7d9gfqwEAAHQmhCMAAAAL4QgAAMBCOAIAALAQjgAAACyEIwAAAAvhCAAAwEI4AgAAsBCOAAAALIQjAAAAC+EIAADAQjgCAACwEI4AAAAshCMAAAAL4QgAAMBCOAIAALAQjgAAACyEIwAAAAvhCAAAwEI4AgAAsBCOAAAALIQjAAAAC+EIAADAQjgCAACwEI4AAAAshCMAAAAL4QgAAMBCOAIAALAQjgAAACyEIwAAAAvhCAAAwEI4AgAAsBCOAAAALIQjAAAAC+EIAADAQjgCAACwdFg4euyxx5Sdna0ePXooPj6+xTpVVVUaN26cevToob59++qBBx7QyZMnWz3v0aNHNXnyZLlcLsXHx2v69Ok6fvx4B4wAAACcizosHNXV1WnixIm65557Wjze0NCgcePGqa6uTiUlJXrllVdUXFysuXPntnreyZMna9euXVq9erXef/99bdy4UXfddVdHDAEAAJyDHMYY05EXKC4u1n333aeampom5X/60590ww036PDhw0pMTJQkLV26VA8++KC++uorRUdHNzvX7t27dckll2jLli268sorJUmrVq3Sz3/+cx08eFApKSkt9sHv98vv9wf2a2tr1a9fPx04cEAul6udRgog3Hw+X+B14PDhw4qNjQ1zjwC0J6/Xq9TUVNXU1MjtdnfchUwHKyoqMm63u1n5I488YoYNG9ak7K9//auRZLZt29biuZYtW2bi4+OblNXX15suXbqYt956K2gf5s2bZySxsbGxsbGxRcC2d+/eNueRtuiqMPF4PIE7Rqec2vd4PEHb9O3bt0lZ165d1atXr6BtJKmgoED5+fmB/ZqaGqWlpamqqqpjk2cncypxn2t3zBg34z4XMG7GfS449eSnV69eHXqdNoWjOXPm6PHHH2+1zu7du5WRkfGjOtXenE6nnE5ns3K3231O/aU6xeVyMe5zCOM+tzDuc8u5Ou6oqI79sH2bwtHs2bM1bdq0VusMGDDgB50rKSlJmzdvblJWXV0dOBaszZdfftmk7OTJkzp69GjQNgAAAG3RpnCUkJCghISEdrlwVlaWHnvsMX355ZeBR2WrV6+Wy+XSJZdcErRNTU2NysrKNGLECEnSunXr1NjYqMzMzHbpFwAAOLd12H2pqqoq7dixQ1VVVWpoaNCOHTu0Y8eOwHcSXXfddbrkkkv0m9/8Rn/+85/14Ycf6uGHH1ZeXl7gEdjmzZuVkZGhQ4cOSZIGDx6ssWPHasaMGdq8ebM++eQTzZw5U7feemvQT6q1xOl0at68eS0+aotkjJtxnwsYN+M+FzDujh13h32Uf9q0aXrllVealX/00UcaNWqUJGn//v265557tH79esXGxmrq1KlatGiRunb97obW+vXrNXr0aFVWVqp///6SvvsSyJkzZ+q9995TVFSUJkyYoGeffVZxcXEdMQwAAHCO6fDvOQIAADib8NtqAAAAFsIRAACAhXAEAABgIRwBAABYIjIcPfbYY8rOzlaPHj0UHx/fYp2qqiqNGzdOPXr0UN++ffXAAw/o5MmTrZ736NGjmjx5slwul+Lj4zV9+vTAVxN0RuvXr5fD4Whx27JlS9B2o0aNalb/7rvvDmHPf7z+/fs3G8OiRYtabfPtt98qLy9PvXv3VlxcnCZMmBD4YtKzwb59+zR9+nSlp6ere/fuGjhwoObNm6e6urpW252N8/3CCy+of//+iomJUWZmZrMvlD3dihUrlJGRoZiYGF122WX64IMPQtTT9lFYWKirrrpKPXv2VN++fTV+/HiVl5e32qa4uLjZvMbExISox+3j0UcfbTaG7/sFhrN9rqWWX78cDofy8vJarH+2zvXGjRv1i1/8QikpKXI4HFq5cmWT48YYzZ07V8nJyerevbtycnL0xRdffO952/r60JKIDEd1dXWaOHGi7rnnnhaPNzQ0aNy4caqrq1NJSYleeeUVFRcXa+7cua2ed/Lkydq1a5dWr16t999/Xxs3btRdd93VEUNoF9nZ2Tpy5EiT7c4771R6erquvPLKVtvOmDGjSbsnnngiRL1uPwsWLGgyhlmzZrVa//7779d7772nFStWaMOGDTp8+LB++ctfhqi3P96ePXvU2Niol156Sbt27dIzzzyjpUuX6qGHHvretmfTfL/55pvKz8/XvHnztG3bNg0bNky5ubnNvj3/lJKSEk2aNEnTp0/X9u3bNX78eI0fP147d+4Mcc/P3IYNG5SXl6dPP/1Uq1evVn19va677jr5fL5W27lcribzun///hD1uP1ceumlTcbw8ccfB60bCXMtSVu2bGky5tWrV0uSJk6cGLTN2TjXPp9Pw4YN0wsvvNDi8SeeeELPPvusli5dqk2bNik2Nla5ubn69ttvg56zra8PQXXoz9qGWVFRkXG73c3KP/jgAxMVFWU8Hk+g7MUXXzQul8v4/f4Wz/WXv/zFSDJbtmwJlP3pT38yDofDHDp0qN373hHq6upMQkKCWbBgQav1rr32WnPvvfeGplMdJC0tzTzzzDM/uH5NTY3p1q2bWbFiRaBs9+7dRpIpLS3tgB6GxhNPPGHS09NbrXO2zffIkSNNXl5eYL+hocGkpKSYwsLCFuv/6le/MuPGjWtSlpmZaX772992aD870pdffmkkmQ0bNgStE+z172wyb948M2zYsB9cPxLn2hhj7r33XjNw4EDT2NjY4vFImGtJ5u233w7sNzY2mqSkJPPkk08GympqaozT6TT/+Z//GfQ8bX19CCYi7xx9n9LSUl122WVKTEwMlOXm5srr9WrXrl1B28THxze545KTk6OoqCht2rSpw/vcHt5991198803uv3227+37muvvaY+ffpoyJAhKigo0IkTJ0LQw/a1aNEi9e7dW8OHD9eTTz7Z6mPTsrIy1dfXKycnJ1CWkZGhfv36qbS0NBTd7RC1tbU/6Nerz5b5rqurU1lZWZN5ioqKUk5OTtB5Ki0tbVJf+u7f+9k+r5K+d26PHz+utLQ0paam6qabbgr6+taZffHFF0pJSdGAAQM0efJkVVVVBa0biXNdV1enV199VXfccYccDkfQepEw17bKykp5PJ4m8+l2u5WZmRl0Ps/k9SGYNv22WqTweDxNgpGkwL7H4wna5tRvwJ3StWtX9erVK2ibzmbZsmXKzc3VBRdc0Gq92267TWlpaUpJSdFnn32mBx98UOXl5XrrrbdC1NMf73e/+52uuOIK9erVSyUlJSooKNCRI0f09NNPt1jf4/EoOjq62Rq1xMTEs2Z+T1dRUaHnnntOixcvbrXe2TTfX3/9tRoaGlr897tnz54W2wT79362zmtjY6Puu+8+/cM//IOGDBkStN6gQYP0xz/+UUOHDlVtba0WL16s7Oxs7dq163tfAzqLzMxMFRcXa9CgQTpy5Ijmz5+vn/70p9q5c6d69uzZrH6kzbUkrVy5UjU1Na3+6HskzPXpTs1ZW+bzTF4fgjlrwtGcOXP0+OOPt1pn9+7d37tYLxKcyZ/FwYMH9eGHH2r58uXfe357HdVll12m5ORkjRkzRnv37tXAgQPPvOM/UlvGnZ+fHygbOnSooqOj9dvf/laFhYVn3W8Rncl8Hzp0SGPHjtXEiRM1Y8aMVtt21vlGy/Ly8rRz585W195I3/1Qd1ZWVmA/OztbgwcP1ksvvaSFCxd2dDfbxfXXXx/476FDhyozM1NpaWlavny5pk+fHsaehc6yZct0/fXXt/r7oZEw153NWROOZs+e3WpylqQBAwb8oHMlJSU1W71+6lNJSUlJQducvqDr5MmTOnr0aNA2HeVM/iyKiorUu3dv3XjjjW2+XmZmpqTv7kSE883yx/wdyMzM1MmTJ7Vv3z4NGjSo2fGkpCTV1dWppqamyd2j6urqkM/v6do67sOHD2v06NHKzs7Wyy+/3ObrdZb5bkmfPn3UpUuXZp8ibG2ekpKS2lS/M5s5c2bgwyBtvSPQrVs3DR8+XBUVFR3Uu44XHx+viy++OOgYImmupe9+f3TNmjVtvosbCXN9as6qq6uVnJwcKK+urtbll1/eYpszeX0Iqk0rlM4y37cgu7q6OlD20ksvGZfLZb799tsWz3VqQfbWrVsDZR9++OFZsSC7sbHRpKenm9mzZ59R+48//thIMn/+85/buWeh8+qrr5qoqChz9OjRFo+fWpD9X//1X4GyPXv2nHULsg8ePGguuugic+utt5qTJ0+e0Tk6+3yPHDnSzJw5M7Df0NBgzj///FYXZN9www1NyrKyss6qRbqNjY0mLy/PpKSkmP/93/89o3OcPHnSDBo0yNx///3t3LvQOXbsmDnvvPPMH/7whxaPR8Jc2+bNm2eSkpJMfX19m9qdjXOtIAuyFy9eHCirra39QQuy2/L6ELQ/bap9lti/f7/Zvn27mT9/vomLizPbt28327dvN8eOHTPGfPcXZ8iQIea6664zO3bsMKtWrTIJCQmmoKAgcI5NmzaZQYMGmYMHDwbKxo4da4YPH242bdpkPv74Y3PRRReZSZMmhXx8bbVmzRojyezevbvZsYMHD5pBgwaZTZs2GWOMqaioMAsWLDBbt241lZWV5p133jEDBgww11xzTai7fcZKSkrMM888Y3bs2GH27t1rXn31VZOQkGCmTJkSqHP6uI0x5u677zb9+vUz69atM1u3bjVZWVkmKysrHEM4IwcPHjQXXnihGTNmjDl48KA5cuRIYLPrnO3z/cYbbxin02mKi4vNX/7yF3PXXXeZ+Pj4wKdPf/Ob35g5c+YE6n/yySema9euZvHixWb37t1m3rx5plu3bubzzz8P1xDa7J577jFut9usX7++ybyeOHEiUOf0cc+fP998+OGHZu/evaasrMzceuutJiYmxuzatSscQzgjs2fPNuvXrzeVlZXmk08+MTk5OaZPnz7myy+/NMZE5lyf0tDQYPr162cefPDBZsciZa6PHTsWeH+WZJ5++mmzfft2s3//fmOMMYsWLTLx8fHmnXfeMZ999pm56aabTHp6uvn73/8eOMfPfvYz89xzzwX2v+/14YeKyHA0depUI6nZ9tFHHwXq7Nu3z1x//fWme/fupk+fPmb27NlN0vlHH31kJJnKyspA2TfffGMmTZpk4uLijMvlMrfffnsgcHVmkyZNMtnZ2S0eq6ysbPJnU1VVZa655hrTq1cv43Q6zYUXXmgeeOABU1tbG8Ie/zhlZWUmMzPTuN1uExMTYwYPHmz+9V//tcldwdPHbYwxf//7380//dM/mfPOO8/06NHD3HzzzU2CRWdXVFTU4t97+wZxpMz3c889Z/r162eio6PNyJEjzaeffho4du2115qpU6c2qb98+XJz8cUXm+joaHPppZea//7v/w5xj3+cYPNaVFQUqHP6uO+7777An1FiYqL5+c9/brZt2xb6zv8It9xyi0lOTjbR0dHm/PPPN7fccoupqKgIHI/EuT7lww8/NJJMeXl5s2ORMten3mdP306NrbGx0TzyyCMmMTHROJ1OM2bMmGZ/HmlpaWbevHlNylp7ffihHMYY07YHcQAAAJHrnPyeIwAAgGAIRwAAABbCEQAAgIVwBAAAYCEcAQAAWAhHAAAAFsIRAACAhXAEAABgIRwBAABYCEcAAAAWwhEAAIDl/wDYrueBWKvZWgAAAABJRU5ErkJggg==\n"
                },
                "metadata": {}
              }
            ]
          }
        },
        "69e68cad681444929dcdef1a656e79b8": {
          "model_module": "@jupyter-widgets/base",
          "model_name": "LayoutModel",
          "model_module_version": "1.2.0",
          "state": {
            "_model_module": "@jupyter-widgets/base",
            "_model_module_version": "1.2.0",
            "_model_name": "LayoutModel",
            "_view_count": null,
            "_view_module": "@jupyter-widgets/base",
            "_view_module_version": "1.2.0",
            "_view_name": "LayoutView",
            "align_content": null,
            "align_items": null,
            "align_self": null,
            "border": null,
            "bottom": null,
            "display": null,
            "flex": null,
            "flex_flow": null,
            "grid_area": null,
            "grid_auto_columns": null,
            "grid_auto_flow": null,
            "grid_auto_rows": null,
            "grid_column": null,
            "grid_gap": null,
            "grid_row": null,
            "grid_template_areas": null,
            "grid_template_columns": null,
            "grid_template_rows": null,
            "height": null,
            "justify_content": null,
            "justify_items": null,
            "left": null,
            "margin": null,
            "max_height": null,
            "max_width": null,
            "min_height": null,
            "min_width": null,
            "object_fit": null,
            "object_position": null,
            "order": null,
            "overflow": null,
            "overflow_x": null,
            "overflow_y": null,
            "padding": null,
            "right": null,
            "top": null,
            "visibility": null,
            "width": null
          }
        },
        "dc2845acbdc6457d976378a34d389418": {
          "model_module": "@jupyter-widgets/base",
          "model_name": "LayoutModel",
          "model_module_version": "1.2.0",
          "state": {
            "_model_module": "@jupyter-widgets/base",
            "_model_module_version": "1.2.0",
            "_model_name": "LayoutModel",
            "_view_count": null,
            "_view_module": "@jupyter-widgets/base",
            "_view_module_version": "1.2.0",
            "_view_name": "LayoutView",
            "align_content": null,
            "align_items": null,
            "align_self": null,
            "border": null,
            "bottom": null,
            "display": null,
            "flex": null,
            "flex_flow": null,
            "grid_area": null,
            "grid_auto_columns": null,
            "grid_auto_flow": null,
            "grid_auto_rows": null,
            "grid_column": null,
            "grid_gap": null,
            "grid_row": null,
            "grid_template_areas": null,
            "grid_template_columns": null,
            "grid_template_rows": null,
            "height": null,
            "justify_content": null,
            "justify_items": null,
            "left": null,
            "margin": null,
            "max_height": null,
            "max_width": null,
            "min_height": null,
            "min_width": null,
            "object_fit": null,
            "object_position": null,
            "order": null,
            "overflow": null,
            "overflow_x": null,
            "overflow_y": null,
            "padding": null,
            "right": null,
            "top": null,
            "visibility": null,
            "width": null
          }
        },
        "103044da3fbe4650b18f06e7c27864f6": {
          "model_module": "@jupyter-widgets/controls",
          "model_name": "SliderStyleModel",
          "model_module_version": "1.5.0",
          "state": {
            "_model_module": "@jupyter-widgets/controls",
            "_model_module_version": "1.5.0",
            "_model_name": "SliderStyleModel",
            "_view_count": null,
            "_view_module": "@jupyter-widgets/base",
            "_view_module_version": "1.2.0",
            "_view_name": "StyleView",
            "description_width": "",
            "handle_color": null
          }
        },
        "f0480bec6f1c4ed9b0fb71a7943c7352": {
          "model_module": "@jupyter-widgets/base",
          "model_name": "LayoutModel",
          "model_module_version": "1.2.0",
          "state": {
            "_model_module": "@jupyter-widgets/base",
            "_model_module_version": "1.2.0",
            "_model_name": "LayoutModel",
            "_view_count": null,
            "_view_module": "@jupyter-widgets/base",
            "_view_module_version": "1.2.0",
            "_view_name": "LayoutView",
            "align_content": null,
            "align_items": null,
            "align_self": null,
            "border": null,
            "bottom": null,
            "display": null,
            "flex": null,
            "flex_flow": null,
            "grid_area": null,
            "grid_auto_columns": null,
            "grid_auto_flow": null,
            "grid_auto_rows": null,
            "grid_column": null,
            "grid_gap": null,
            "grid_row": null,
            "grid_template_areas": null,
            "grid_template_columns": null,
            "grid_template_rows": null,
            "height": null,
            "justify_content": null,
            "justify_items": null,
            "left": null,
            "margin": null,
            "max_height": null,
            "max_width": null,
            "min_height": null,
            "min_width": null,
            "object_fit": null,
            "object_position": null,
            "order": null,
            "overflow": null,
            "overflow_x": null,
            "overflow_y": null,
            "padding": null,
            "right": null,
            "top": null,
            "visibility": null,
            "width": null
          }
        },
        "6c7c52daa6ac4017a279621fad2b0718": {
          "model_module": "@jupyter-widgets/controls",
          "model_name": "SliderStyleModel",
          "model_module_version": "1.5.0",
          "state": {
            "_model_module": "@jupyter-widgets/controls",
            "_model_module_version": "1.5.0",
            "_model_name": "SliderStyleModel",
            "_view_count": null,
            "_view_module": "@jupyter-widgets/base",
            "_view_module_version": "1.2.0",
            "_view_name": "StyleView",
            "description_width": "",
            "handle_color": null
          }
        },
        "35ad619f3f714042a93d40283553fe32": {
          "model_module": "@jupyter-widgets/base",
          "model_name": "LayoutModel",
          "model_module_version": "1.2.0",
          "state": {
            "_model_module": "@jupyter-widgets/base",
            "_model_module_version": "1.2.0",
            "_model_name": "LayoutModel",
            "_view_count": null,
            "_view_module": "@jupyter-widgets/base",
            "_view_module_version": "1.2.0",
            "_view_name": "LayoutView",
            "align_content": null,
            "align_items": null,
            "align_self": null,
            "border": null,
            "bottom": null,
            "display": null,
            "flex": null,
            "flex_flow": null,
            "grid_area": null,
            "grid_auto_columns": null,
            "grid_auto_flow": null,
            "grid_auto_rows": null,
            "grid_column": null,
            "grid_gap": null,
            "grid_row": null,
            "grid_template_areas": null,
            "grid_template_columns": null,
            "grid_template_rows": null,
            "height": null,
            "justify_content": null,
            "justify_items": null,
            "left": null,
            "margin": null,
            "max_height": null,
            "max_width": null,
            "min_height": null,
            "min_width": null,
            "object_fit": null,
            "object_position": null,
            "order": null,
            "overflow": null,
            "overflow_x": null,
            "overflow_y": null,
            "padding": null,
            "right": null,
            "top": null,
            "visibility": null,
            "width": null
          }
        },
        "6f969e3e99db465d9d2c87c49839c14e": {
          "model_module": "@jupyter-widgets/controls",
          "model_name": "SliderStyleModel",
          "model_module_version": "1.5.0",
          "state": {
            "_model_module": "@jupyter-widgets/controls",
            "_model_module_version": "1.5.0",
            "_model_name": "SliderStyleModel",
            "_view_count": null,
            "_view_module": "@jupyter-widgets/base",
            "_view_module_version": "1.2.0",
            "_view_name": "StyleView",
            "description_width": "",
            "handle_color": null
          }
        },
        "49ab5a32733242f4845b75209024ee7b": {
          "model_module": "@jupyter-widgets/base",
          "model_name": "LayoutModel",
          "model_module_version": "1.2.0",
          "state": {
            "_model_module": "@jupyter-widgets/base",
            "_model_module_version": "1.2.0",
            "_model_name": "LayoutModel",
            "_view_count": null,
            "_view_module": "@jupyter-widgets/base",
            "_view_module_version": "1.2.0",
            "_view_name": "LayoutView",
            "align_content": null,
            "align_items": null,
            "align_self": null,
            "border": null,
            "bottom": null,
            "display": null,
            "flex": null,
            "flex_flow": null,
            "grid_area": null,
            "grid_auto_columns": null,
            "grid_auto_flow": null,
            "grid_auto_rows": null,
            "grid_column": null,
            "grid_gap": null,
            "grid_row": null,
            "grid_template_areas": null,
            "grid_template_columns": null,
            "grid_template_rows": null,
            "height": null,
            "justify_content": null,
            "justify_items": null,
            "left": null,
            "margin": null,
            "max_height": null,
            "max_width": null,
            "min_height": null,
            "min_width": null,
            "object_fit": null,
            "object_position": null,
            "order": null,
            "overflow": null,
            "overflow_x": null,
            "overflow_y": null,
            "padding": null,
            "right": null,
            "top": null,
            "visibility": null,
            "width": null
          }
        },
        "e873d5b7f4e24edca2c82f29cc20daaf": {
          "model_module": "@jupyter-widgets/controls",
          "model_name": "VBoxModel",
          "model_module_version": "1.5.0",
          "state": {
            "_dom_classes": [
              "widget-interact"
            ],
            "_model_module": "@jupyter-widgets/controls",
            "_model_module_version": "1.5.0",
            "_model_name": "VBoxModel",
            "_view_count": null,
            "_view_module": "@jupyter-widgets/controls",
            "_view_module_version": "1.5.0",
            "_view_name": "VBoxView",
            "box_style": "",
            "children": [
              "IPY_MODEL_94e441ccc0984cf7806fc288f3517865",
              "IPY_MODEL_27408338715046be8541ccdec7ed18d6",
              "IPY_MODEL_afe7357db650466983860ef6ad06fa54"
            ],
            "layout": "IPY_MODEL_3a3fc21e90d643938de655ebe41abc66"
          }
        },
        "94e441ccc0984cf7806fc288f3517865": {
          "model_module": "@jupyter-widgets/controls",
          "model_name": "IntSliderModel",
          "model_module_version": "1.5.0",
          "state": {
            "_dom_classes": [],
            "_model_module": "@jupyter-widgets/controls",
            "_model_module_version": "1.5.0",
            "_model_name": "IntSliderModel",
            "_view_count": null,
            "_view_module": "@jupyter-widgets/controls",
            "_view_module_version": "1.5.0",
            "_view_name": "IntSliderView",
            "continuous_update": true,
            "description": "a",
            "description_tooltip": null,
            "disabled": false,
            "layout": "IPY_MODEL_9b083b929b1d425d91c5132ca0bb969b",
            "max": -1,
            "min": -9,
            "orientation": "horizontal",
            "readout": true,
            "readout_format": "d",
            "step": 1,
            "style": "IPY_MODEL_a600a92ae39743a9bf5b329d04aae9a2",
            "value": -5
          }
        },
        "27408338715046be8541ccdec7ed18d6": {
          "model_module": "@jupyter-widgets/controls",
          "model_name": "IntSliderModel",
          "model_module_version": "1.5.0",
          "state": {
            "_dom_classes": [],
            "_model_module": "@jupyter-widgets/controls",
            "_model_module_version": "1.5.0",
            "_model_name": "IntSliderModel",
            "_view_count": null,
            "_view_module": "@jupyter-widgets/controls",
            "_view_module_version": "1.5.0",
            "_view_name": "IntSliderView",
            "continuous_update": true,
            "description": "b",
            "description_tooltip": null,
            "disabled": false,
            "layout": "IPY_MODEL_b02351f96a3e4f01b0789b59fbf47854",
            "max": 9,
            "min": 1,
            "orientation": "horizontal",
            "readout": true,
            "readout_format": "d",
            "step": 1,
            "style": "IPY_MODEL_cec168f9121d42e7a7c71a16419fdbb0",
            "value": 5
          }
        },
        "afe7357db650466983860ef6ad06fa54": {
          "model_module": "@jupyter-widgets/output",
          "model_name": "OutputModel",
          "model_module_version": "1.0.0",
          "state": {
            "_dom_classes": [],
            "_model_module": "@jupyter-widgets/output",
            "_model_module_version": "1.0.0",
            "_model_name": "OutputModel",
            "_view_count": null,
            "_view_module": "@jupyter-widgets/output",
            "_view_module_version": "1.0.0",
            "_view_name": "OutputView",
            "layout": "IPY_MODEL_ca6069087bba4b74820af2daba8ded05",
            "msg_id": "",
            "outputs": [
              {
                "output_type": "display_data",
                "data": {
                  "text/plain": "<Figure size 640x480 with 1 Axes>",
                  "image/png": "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\n"
                },
                "metadata": {}
              }
            ]
          }
        },
        "3a3fc21e90d643938de655ebe41abc66": {
          "model_module": "@jupyter-widgets/base",
          "model_name": "LayoutModel",
          "model_module_version": "1.2.0",
          "state": {
            "_model_module": "@jupyter-widgets/base",
            "_model_module_version": "1.2.0",
            "_model_name": "LayoutModel",
            "_view_count": null,
            "_view_module": "@jupyter-widgets/base",
            "_view_module_version": "1.2.0",
            "_view_name": "LayoutView",
            "align_content": null,
            "align_items": null,
            "align_self": null,
            "border": null,
            "bottom": null,
            "display": null,
            "flex": null,
            "flex_flow": null,
            "grid_area": null,
            "grid_auto_columns": null,
            "grid_auto_flow": null,
            "grid_auto_rows": null,
            "grid_column": null,
            "grid_gap": null,
            "grid_row": null,
            "grid_template_areas": null,
            "grid_template_columns": null,
            "grid_template_rows": null,
            "height": null,
            "justify_content": null,
            "justify_items": null,
            "left": null,
            "margin": null,
            "max_height": null,
            "max_width": null,
            "min_height": null,
            "min_width": null,
            "object_fit": null,
            "object_position": null,
            "order": null,
            "overflow": null,
            "overflow_x": null,
            "overflow_y": null,
            "padding": null,
            "right": null,
            "top": null,
            "visibility": null,
            "width": null
          }
        },
        "9b083b929b1d425d91c5132ca0bb969b": {
          "model_module": "@jupyter-widgets/base",
          "model_name": "LayoutModel",
          "model_module_version": "1.2.0",
          "state": {
            "_model_module": "@jupyter-widgets/base",
            "_model_module_version": "1.2.0",
            "_model_name": "LayoutModel",
            "_view_count": null,
            "_view_module": "@jupyter-widgets/base",
            "_view_module_version": "1.2.0",
            "_view_name": "LayoutView",
            "align_content": null,
            "align_items": null,
            "align_self": null,
            "border": null,
            "bottom": null,
            "display": null,
            "flex": null,
            "flex_flow": null,
            "grid_area": null,
            "grid_auto_columns": null,
            "grid_auto_flow": null,
            "grid_auto_rows": null,
            "grid_column": null,
            "grid_gap": null,
            "grid_row": null,
            "grid_template_areas": null,
            "grid_template_columns": null,
            "grid_template_rows": null,
            "height": null,
            "justify_content": null,
            "justify_items": null,
            "left": null,
            "margin": null,
            "max_height": null,
            "max_width": null,
            "min_height": null,
            "min_width": null,
            "object_fit": null,
            "object_position": null,
            "order": null,
            "overflow": null,
            "overflow_x": null,
            "overflow_y": null,
            "padding": null,
            "right": null,
            "top": null,
            "visibility": null,
            "width": null
          }
        },
        "a600a92ae39743a9bf5b329d04aae9a2": {
          "model_module": "@jupyter-widgets/controls",
          "model_name": "SliderStyleModel",
          "model_module_version": "1.5.0",
          "state": {
            "_model_module": "@jupyter-widgets/controls",
            "_model_module_version": "1.5.0",
            "_model_name": "SliderStyleModel",
            "_view_count": null,
            "_view_module": "@jupyter-widgets/base",
            "_view_module_version": "1.2.0",
            "_view_name": "StyleView",
            "description_width": "",
            "handle_color": null
          }
        },
        "b02351f96a3e4f01b0789b59fbf47854": {
          "model_module": "@jupyter-widgets/base",
          "model_name": "LayoutModel",
          "model_module_version": "1.2.0",
          "state": {
            "_model_module": "@jupyter-widgets/base",
            "_model_module_version": "1.2.0",
            "_model_name": "LayoutModel",
            "_view_count": null,
            "_view_module": "@jupyter-widgets/base",
            "_view_module_version": "1.2.0",
            "_view_name": "LayoutView",
            "align_content": null,
            "align_items": null,
            "align_self": null,
            "border": null,
            "bottom": null,
            "display": null,
            "flex": null,
            "flex_flow": null,
            "grid_area": null,
            "grid_auto_columns": null,
            "grid_auto_flow": null,
            "grid_auto_rows": null,
            "grid_column": null,
            "grid_gap": null,
            "grid_row": null,
            "grid_template_areas": null,
            "grid_template_columns": null,
            "grid_template_rows": null,
            "height": null,
            "justify_content": null,
            "justify_items": null,
            "left": null,
            "margin": null,
            "max_height": null,
            "max_width": null,
            "min_height": null,
            "min_width": null,
            "object_fit": null,
            "object_position": null,
            "order": null,
            "overflow": null,
            "overflow_x": null,
            "overflow_y": null,
            "padding": null,
            "right": null,
            "top": null,
            "visibility": null,
            "width": null
          }
        },
        "cec168f9121d42e7a7c71a16419fdbb0": {
          "model_module": "@jupyter-widgets/controls",
          "model_name": "SliderStyleModel",
          "model_module_version": "1.5.0",
          "state": {
            "_model_module": "@jupyter-widgets/controls",
            "_model_module_version": "1.5.0",
            "_model_name": "SliderStyleModel",
            "_view_count": null,
            "_view_module": "@jupyter-widgets/base",
            "_view_module_version": "1.2.0",
            "_view_name": "StyleView",
            "description_width": "",
            "handle_color": null
          }
        },
        "ca6069087bba4b74820af2daba8ded05": {
          "model_module": "@jupyter-widgets/base",
          "model_name": "LayoutModel",
          "model_module_version": "1.2.0",
          "state": {
            "_model_module": "@jupyter-widgets/base",
            "_model_module_version": "1.2.0",
            "_model_name": "LayoutModel",
            "_view_count": null,
            "_view_module": "@jupyter-widgets/base",
            "_view_module_version": "1.2.0",
            "_view_name": "LayoutView",
            "align_content": null,
            "align_items": null,
            "align_self": null,
            "border": null,
            "bottom": null,
            "display": null,
            "flex": null,
            "flex_flow": null,
            "grid_area": null,
            "grid_auto_columns": null,
            "grid_auto_flow": null,
            "grid_auto_rows": null,
            "grid_column": null,
            "grid_gap": null,
            "grid_row": null,
            "grid_template_areas": null,
            "grid_template_columns": null,
            "grid_template_rows": null,
            "height": null,
            "justify_content": null,
            "justify_items": null,
            "left": null,
            "margin": null,
            "max_height": null,
            "max_width": null,
            "min_height": null,
            "min_width": null,
            "object_fit": null,
            "object_position": null,
            "order": null,
            "overflow": null,
            "overflow_x": null,
            "overflow_y": null,
            "padding": null,
            "right": null,
            "top": null,
            "visibility": null,
            "width": null
          }
        },
        "4bfa84e94d834b85b0420f1e300a3af0": {
          "model_module": "@jupyter-widgets/controls",
          "model_name": "VBoxModel",
          "model_module_version": "1.5.0",
          "state": {
            "_dom_classes": [
              "widget-interact"
            ],
            "_model_module": "@jupyter-widgets/controls",
            "_model_module_version": "1.5.0",
            "_model_name": "VBoxModel",
            "_view_count": null,
            "_view_module": "@jupyter-widgets/controls",
            "_view_module_version": "1.5.0",
            "_view_name": "VBoxView",
            "box_style": "",
            "children": [
              "IPY_MODEL_52fb5b52b5c0469f956f4ff6b5bc9dd5",
              "IPY_MODEL_bdc0d2cdba04471f9d8921b418128859",
              "IPY_MODEL_18c9a2e18ad149a3b67a5661690b4fff",
              "IPY_MODEL_2625f967ea074b3fb59933de6672633d"
            ],
            "layout": "IPY_MODEL_29ca3c78962544ddb9fef5422bd273ab"
          }
        },
        "52fb5b52b5c0469f956f4ff6b5bc9dd5": {
          "model_module": "@jupyter-widgets/controls",
          "model_name": "IntSliderModel",
          "model_module_version": "1.5.0",
          "state": {
            "_dom_classes": [],
            "_model_module": "@jupyter-widgets/controls",
            "_model_module_version": "1.5.0",
            "_model_name": "IntSliderModel",
            "_view_count": null,
            "_view_module": "@jupyter-widgets/controls",
            "_view_module_version": "1.5.0",
            "_view_name": "IntSliderView",
            "continuous_update": true,
            "description": "a",
            "description_tooltip": null,
            "disabled": false,
            "layout": "IPY_MODEL_075e4e8e4fc84e20bc8361fe2b58a6e8",
            "max": 9,
            "min": -9,
            "orientation": "horizontal",
            "readout": true,
            "readout_format": "d",
            "step": 1,
            "style": "IPY_MODEL_8a1ab493bcf24d7cb3a9e4aac7a90c34",
            "value": 0
          }
        },
        "bdc0d2cdba04471f9d8921b418128859": {
          "model_module": "@jupyter-widgets/controls",
          "model_name": "IntSliderModel",
          "model_module_version": "1.5.0",
          "state": {
            "_dom_classes": [],
            "_model_module": "@jupyter-widgets/controls",
            "_model_module_version": "1.5.0",
            "_model_name": "IntSliderModel",
            "_view_count": null,
            "_view_module": "@jupyter-widgets/controls",
            "_view_module_version": "1.5.0",
            "_view_name": "IntSliderView",
            "continuous_update": true,
            "description": "b",
            "description_tooltip": null,
            "disabled": false,
            "layout": "IPY_MODEL_0d996a82bbe84aa7ab425dedf32066b5",
            "max": 9,
            "min": -9,
            "orientation": "horizontal",
            "readout": true,
            "readout_format": "d",
            "step": 1,
            "style": "IPY_MODEL_3c7cceeeb7504c43b3f298d294787766",
            "value": 0
          }
        },
        "18c9a2e18ad149a3b67a5661690b4fff": {
          "model_module": "@jupyter-widgets/controls",
          "model_name": "IntSliderModel",
          "model_module_version": "1.5.0",
          "state": {
            "_dom_classes": [],
            "_model_module": "@jupyter-widgets/controls",
            "_model_module_version": "1.5.0",
            "_model_name": "IntSliderModel",
            "_view_count": null,
            "_view_module": "@jupyter-widgets/controls",
            "_view_module_version": "1.5.0",
            "_view_name": "IntSliderView",
            "continuous_update": true,
            "description": "c",
            "description_tooltip": null,
            "disabled": false,
            "layout": "IPY_MODEL_b5b3d9e68e814c67860f9dd2ee5f1b30",
            "max": 9,
            "min": -9,
            "orientation": "horizontal",
            "readout": true,
            "readout_format": "d",
            "step": 1,
            "style": "IPY_MODEL_c2e3bc097fc645d7a48eea9cfa9dda90",
            "value": 0
          }
        },
        "2625f967ea074b3fb59933de6672633d": {
          "model_module": "@jupyter-widgets/output",
          "model_name": "OutputModel",
          "model_module_version": "1.0.0",
          "state": {
            "_dom_classes": [],
            "_model_module": "@jupyter-widgets/output",
            "_model_module_version": "1.0.0",
            "_model_name": "OutputModel",
            "_view_count": null,
            "_view_module": "@jupyter-widgets/output",
            "_view_module_version": "1.0.0",
            "_view_name": "OutputView",
            "layout": "IPY_MODEL_bd4c201866dc481e8aa93a3be7af0cbe",
            "msg_id": "",
            "outputs": [
              {
                "output_type": "display_data",
                "data": {
                  "text/plain": "<Figure size 640x480 with 1 Axes>",
                  "image/png": "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\n"
                },
                "metadata": {}
              }
            ]
          }
        },
        "29ca3c78962544ddb9fef5422bd273ab": {
          "model_module": "@jupyter-widgets/base",
          "model_name": "LayoutModel",
          "model_module_version": "1.2.0",
          "state": {
            "_model_module": "@jupyter-widgets/base",
            "_model_module_version": "1.2.0",
            "_model_name": "LayoutModel",
            "_view_count": null,
            "_view_module": "@jupyter-widgets/base",
            "_view_module_version": "1.2.0",
            "_view_name": "LayoutView",
            "align_content": null,
            "align_items": null,
            "align_self": null,
            "border": null,
            "bottom": null,
            "display": null,
            "flex": null,
            "flex_flow": null,
            "grid_area": null,
            "grid_auto_columns": null,
            "grid_auto_flow": null,
            "grid_auto_rows": null,
            "grid_column": null,
            "grid_gap": null,
            "grid_row": null,
            "grid_template_areas": null,
            "grid_template_columns": null,
            "grid_template_rows": null,
            "height": null,
            "justify_content": null,
            "justify_items": null,
            "left": null,
            "margin": null,
            "max_height": null,
            "max_width": null,
            "min_height": null,
            "min_width": null,
            "object_fit": null,
            "object_position": null,
            "order": null,
            "overflow": null,
            "overflow_x": null,
            "overflow_y": null,
            "padding": null,
            "right": null,
            "top": null,
            "visibility": null,
            "width": null
          }
        },
        "075e4e8e4fc84e20bc8361fe2b58a6e8": {
          "model_module": "@jupyter-widgets/base",
          "model_name": "LayoutModel",
          "model_module_version": "1.2.0",
          "state": {
            "_model_module": "@jupyter-widgets/base",
            "_model_module_version": "1.2.0",
            "_model_name": "LayoutModel",
            "_view_count": null,
            "_view_module": "@jupyter-widgets/base",
            "_view_module_version": "1.2.0",
            "_view_name": "LayoutView",
            "align_content": null,
            "align_items": null,
            "align_self": null,
            "border": null,
            "bottom": null,
            "display": null,
            "flex": null,
            "flex_flow": null,
            "grid_area": null,
            "grid_auto_columns": null,
            "grid_auto_flow": null,
            "grid_auto_rows": null,
            "grid_column": null,
            "grid_gap": null,
            "grid_row": null,
            "grid_template_areas": null,
            "grid_template_columns": null,
            "grid_template_rows": null,
            "height": null,
            "justify_content": null,
            "justify_items": null,
            "left": null,
            "margin": null,
            "max_height": null,
            "max_width": null,
            "min_height": null,
            "min_width": null,
            "object_fit": null,
            "object_position": null,
            "order": null,
            "overflow": null,
            "overflow_x": null,
            "overflow_y": null,
            "padding": null,
            "right": null,
            "top": null,
            "visibility": null,
            "width": null
          }
        },
        "8a1ab493bcf24d7cb3a9e4aac7a90c34": {
          "model_module": "@jupyter-widgets/controls",
          "model_name": "SliderStyleModel",
          "model_module_version": "1.5.0",
          "state": {
            "_model_module": "@jupyter-widgets/controls",
            "_model_module_version": "1.5.0",
            "_model_name": "SliderStyleModel",
            "_view_count": null,
            "_view_module": "@jupyter-widgets/base",
            "_view_module_version": "1.2.0",
            "_view_name": "StyleView",
            "description_width": "",
            "handle_color": null
          }
        },
        "0d996a82bbe84aa7ab425dedf32066b5": {
          "model_module": "@jupyter-widgets/base",
          "model_name": "LayoutModel",
          "model_module_version": "1.2.0",
          "state": {
            "_model_module": "@jupyter-widgets/base",
            "_model_module_version": "1.2.0",
            "_model_name": "LayoutModel",
            "_view_count": null,
            "_view_module": "@jupyter-widgets/base",
            "_view_module_version": "1.2.0",
            "_view_name": "LayoutView",
            "align_content": null,
            "align_items": null,
            "align_self": null,
            "border": null,
            "bottom": null,
            "display": null,
            "flex": null,
            "flex_flow": null,
            "grid_area": null,
            "grid_auto_columns": null,
            "grid_auto_flow": null,
            "grid_auto_rows": null,
            "grid_column": null,
            "grid_gap": null,
            "grid_row": null,
            "grid_template_areas": null,
            "grid_template_columns": null,
            "grid_template_rows": null,
            "height": null,
            "justify_content": null,
            "justify_items": null,
            "left": null,
            "margin": null,
            "max_height": null,
            "max_width": null,
            "min_height": null,
            "min_width": null,
            "object_fit": null,
            "object_position": null,
            "order": null,
            "overflow": null,
            "overflow_x": null,
            "overflow_y": null,
            "padding": null,
            "right": null,
            "top": null,
            "visibility": null,
            "width": null
          }
        },
        "3c7cceeeb7504c43b3f298d294787766": {
          "model_module": "@jupyter-widgets/controls",
          "model_name": "SliderStyleModel",
          "model_module_version": "1.5.0",
          "state": {
            "_model_module": "@jupyter-widgets/controls",
            "_model_module_version": "1.5.0",
            "_model_name": "SliderStyleModel",
            "_view_count": null,
            "_view_module": "@jupyter-widgets/base",
            "_view_module_version": "1.2.0",
            "_view_name": "StyleView",
            "description_width": "",
            "handle_color": null
          }
        },
        "b5b3d9e68e814c67860f9dd2ee5f1b30": {
          "model_module": "@jupyter-widgets/base",
          "model_name": "LayoutModel",
          "model_module_version": "1.2.0",
          "state": {
            "_model_module": "@jupyter-widgets/base",
            "_model_module_version": "1.2.0",
            "_model_name": "LayoutModel",
            "_view_count": null,
            "_view_module": "@jupyter-widgets/base",
            "_view_module_version": "1.2.0",
            "_view_name": "LayoutView",
            "align_content": null,
            "align_items": null,
            "align_self": null,
            "border": null,
            "bottom": null,
            "display": null,
            "flex": null,
            "flex_flow": null,
            "grid_area": null,
            "grid_auto_columns": null,
            "grid_auto_flow": null,
            "grid_auto_rows": null,
            "grid_column": null,
            "grid_gap": null,
            "grid_row": null,
            "grid_template_areas": null,
            "grid_template_columns": null,
            "grid_template_rows": null,
            "height": null,
            "justify_content": null,
            "justify_items": null,
            "left": null,
            "margin": null,
            "max_height": null,
            "max_width": null,
            "min_height": null,
            "min_width": null,
            "object_fit": null,
            "object_position": null,
            "order": null,
            "overflow": null,
            "overflow_x": null,
            "overflow_y": null,
            "padding": null,
            "right": null,
            "top": null,
            "visibility": null,
            "width": null
          }
        },
        "c2e3bc097fc645d7a48eea9cfa9dda90": {
          "model_module": "@jupyter-widgets/controls",
          "model_name": "SliderStyleModel",
          "model_module_version": "1.5.0",
          "state": {
            "_model_module": "@jupyter-widgets/controls",
            "_model_module_version": "1.5.0",
            "_model_name": "SliderStyleModel",
            "_view_count": null,
            "_view_module": "@jupyter-widgets/base",
            "_view_module_version": "1.2.0",
            "_view_name": "StyleView",
            "description_width": "",
            "handle_color": null
          }
        },
        "bd4c201866dc481e8aa93a3be7af0cbe": {
          "model_module": "@jupyter-widgets/base",
          "model_name": "LayoutModel",
          "model_module_version": "1.2.0",
          "state": {
            "_model_module": "@jupyter-widgets/base",
            "_model_module_version": "1.2.0",
            "_model_name": "LayoutModel",
            "_view_count": null,
            "_view_module": "@jupyter-widgets/base",
            "_view_module_version": "1.2.0",
            "_view_name": "LayoutView",
            "align_content": null,
            "align_items": null,
            "align_self": null,
            "border": null,
            "bottom": null,
            "display": null,
            "flex": null,
            "flex_flow": null,
            "grid_area": null,
            "grid_auto_columns": null,
            "grid_auto_flow": null,
            "grid_auto_rows": null,
            "grid_column": null,
            "grid_gap": null,
            "grid_row": null,
            "grid_template_areas": null,
            "grid_template_columns": null,
            "grid_template_rows": null,
            "height": null,
            "justify_content": null,
            "justify_items": null,
            "left": null,
            "margin": null,
            "max_height": null,
            "max_width": null,
            "min_height": null,
            "min_width": null,
            "object_fit": null,
            "object_position": null,
            "order": null,
            "overflow": null,
            "overflow_x": null,
            "overflow_y": null,
            "padding": null,
            "right": null,
            "top": null,
            "visibility": null,
            "width": null
          }
        }
      }
    }
  },
  "cells": [
    {
      "cell_type": "markdown",
      "metadata": {
        "id": "EsfO5Q92tL-6"
      },
      "source": [
        "[![freeCodeCamp](https://cdn.freecodecamp.org/testable-projects-fcc/images/fcc_secondary.svg)](https://freecodecamp.org/)"
      ]
    },
    {
      "cell_type": "markdown",
      "metadata": {
        "id": "57mlyO58UfN0"
      },
      "source": [
        "**Learn Foundational Math 3 by Building a Financial App**<br>\n",
        "Each of these steps will lead you toward the Certification Project. Once you complete a step, click to expand the next step."
      ]
    },
    {
      "cell_type": "markdown",
      "metadata": {
        "id": "szp5flp1fA8-"
      },
      "source": [
        "# &darr; **Do this first** &darr;\n",
        "Copy this notebook to your own account by clicking the `File` button at the top, and then click `Save a copy in Drive`. You will need to be logged in to Google. The file will be in a folder called \"Colab Notebooks\" in your Google Drive."
      ]
    },
    {
      "cell_type": "markdown",
      "source": [
        "# Step 0 - Acquire the Testing Library"
      ],
      "metadata": {
        "id": "KDloBuvnHQTS"
      }
    },
    {
      "cell_type": "markdown",
      "source": [
        "Please run this code to get the library file from FreeCodeCamp. Each step will use this library to test your code. You do not need to edit anything; just run this code cell and wait a few seconds until it tells you to go on to the next step."
      ],
      "metadata": {
        "id": "JiW6TlNezZKS"
      }
    },
    {
      "cell_type": "code",
      "source": [
        "# You may need to run this cell at the beginning of each new session\n",
        "\n",
        "!pip install requests\n",
        "\n",
        "# This will just take a few seconds\n",
        "\n",
        "import requests\n",
        "\n",
        "# Get the library from GitHub\n",
        "url = 'https://raw.githubusercontent.com/edatfreecodecamp/python-math/main/math-code-test-c.py'\n",
        "r = requests.get(url)\n",
        "\n",
        "# Save the library in a local working directory\n",
        "with open('math_code_test_c.py', 'w') as f:\n",
        "    f.write(r.text)\n",
        "\n",
        "# Now you can import the library\n",
        "import math_code_test_c as test\n",
        "\n",
        "# This will tell you if the code works\n",
        "test.step00()"
      ],
      "metadata": {
        "id": "eTlHceacGa1C",
        "colab": {
          "base_uri": "https://localhost:8080/"
        },
        "outputId": "4c6ac39f-d4d5-4173-f53a-0fbcf5cb015e"
      },
      "execution_count": 49,
      "outputs": [
        {
          "output_type": "stream",
          "name": "stdout",
          "text": [
            "Requirement already satisfied: requests in /usr/local/lib/python3.10/dist-packages (2.31.0)\n",
            "Requirement already satisfied: charset-normalizer<4,>=2 in /usr/local/lib/python3.10/dist-packages (from requests) (3.3.2)\n",
            "Requirement already satisfied: idna<4,>=2.5 in /usr/local/lib/python3.10/dist-packages (from requests) (3.7)\n",
            "Requirement already satisfied: urllib3<3,>=1.21.1 in /usr/local/lib/python3.10/dist-packages (from requests) (2.0.7)\n",
            "Requirement already satisfied: certifi>=2017.4.17 in /usr/local/lib/python3.10/dist-packages (from requests) (2024.6.2)\n",
            "Code test passed\n",
            "Go on to the next step\n"
          ]
        }
      ]
    },
    {
      "cell_type": "markdown",
      "metadata": {
        "id": "r1AM-AcqkbyF"
      },
      "source": [
        "# Step 1 - Graphing Inequalities"
      ]
    },
    {
      "cell_type": "markdown",
      "metadata": {
        "id": "K8rdL_OEkd-t"
      },
      "source": [
        "Learn Inequalities by Building Shaded Graphs. Notice how you set up the plot, like you learned in the last certification. Run the following code and you will see that the graph of y <u>></u> 2x is not quite right. Because y is greater, the shading should be above the line. The second two arguments in the `fill_between()` function give a range of y values to shade. Change just that part of the code to make the graph correct. (Hint: Think about the top of the graph.)\n"
      ]
    },
    {
      "cell_type": "code",
      "metadata": {
        "id": "QAVgVP3xUd4J",
        "colab": {
          "base_uri": "https://localhost:8080/",
          "height": 507
        },
        "outputId": "5ff18708-ca3c-4364-aa39-8a262cc75b4f"
      },
      "source": [
        "import matplotlib.pyplot as plt\n",
        "import numpy as np\n",
        "\n",
        "xmin = -10\n",
        "xmax = 10\n",
        "ymin = - 10\n",
        "ymax = 10\n",
        "points = 2*(xmax-xmin)\n",
        "x = np.linspace(xmin,xmax,points)\n",
        "\n",
        "fig, ax = plt.subplots()\n",
        "plt.axis([xmin,xmax,ymin,ymax]) # window size\n",
        "plt.plot([xmin,xmax],[0,0],'b') # blue x axis\n",
        "plt.plot([0,0],[ymin,ymax], 'b') # blue y axis\n",
        "\n",
        "plt.title(\"y > 2x\")\n",
        "\n",
        "y1 = 2*x\n",
        "plt.plot(x, y1)\n",
        "\n",
        "# Only change code below this line\n",
        "plt.fill_between(x, y1, ymax)\n",
        "\n",
        "plt.show()\n",
        "\n",
        "\n",
        "# Only change code above this line\n",
        "import math_code_test_c as test\n",
        "test.step01(In[-1].split('# Only change code above this line')[0])"
      ],
      "execution_count": null,
      "outputs": [
        {
          "output_type": "display_data",
          "data": {
            "text/plain": [
              "<Figure size 640x480 with 1 Axes>"
            ],
            "image/png": "[encoded data removed]"
          },
          "metadata": {}
        },
        {
          "output_type": "stream",
          "name": "stdout",
          "text": [
            " \n",
            "Code test passed\n",
            "Go on to the next step\n"
          ]
        }
      ]
    },
    {
      "cell_type": "markdown",
      "metadata": {
        "id": "8wXbGsoYkm60"
      },
      "source": [
        "# Step 2 - Graphing inequalities - Part 2"
      ]
    },
    {
      "cell_type": "markdown",
      "metadata": {
        "id": "ehY1G02Dkv7r"
      },
      "source": [
        "The default graph will give you a solid line, but you can change the type of line and the color. As `'b'` is for a solid blue line, `'b--'` will be a dashed blue line and `'r--'` will display a dashed red line. Change the code to graph a dashed red line."
      ]
    },
    {
      "cell_type": "code",
      "metadata": {
        "id": "3Pp_SmUikwgy",
        "colab": {
          "base_uri": "https://localhost:8080/",
          "height": 490
        },
        "outputId": "b8c70290-304c-4645-9bc0-e1681f8b9590"
      },
      "source": [
        "import matplotlib.pyplot as plt\n",
        "import numpy as np\n",
        "\n",
        "xmin = -10\n",
        "xmax = 10\n",
        "ymin = - 10\n",
        "ymax = 10\n",
        "points = 2*(xmax-xmin)\n",
        "x = np.linspace(xmin,xmax,points)\n",
        "\n",
        "fig, ax = plt.subplots()\n",
        "plt.axis([xmin,xmax,ymin,ymax]) # window size\n",
        "plt.plot([xmin,xmax],[0,0],'b') # blue x axis\n",
        "plt.plot([0,0],[ymin,ymax], 'b') # blue y axis\n",
        "\n",
        "y1 = 2*x\n",
        "\n",
        "# Only change the next line:\n",
        "plt.plot(x, y1, 'r--')\n",
        "\n",
        "plt.fill_between(x, y1, ymin)\n",
        "plt.show()\n",
        "\n",
        "\n",
        "\n",
        "# Only change code above this line\n",
        "import math_code_test_c as test\n",
        "test.step02(In[-1].split('# Only change code above this line')[0])"
      ],
      "execution_count": null,
      "outputs": [
        {
          "output_type": "display_data",
          "data": {
            "text/plain": [
              "<Figure size 640x480 with 1 Axes>"
            ],
            "image/png": "[encoded data removed]"
          },
          "metadata": {}
        },
        {
          "output_type": "stream",
          "name": "stdout",
          "text": [
            " \n",
            "Code test passed\n",
            "Go on to the next step\n"
          ]
        }
      ]
    },
    {
      "cell_type": "markdown",
      "metadata": {
        "id": "tBxuJtHck2Oo"
      },
      "source": [
        "# Step 3 - Making Art with Graphs"
      ]
    },
    {
      "cell_type": "markdown",
      "metadata": {
        "id": "PTr63nCrlTiM"
      },
      "source": [
        "Now plot four inequalities on the graph, in a pattern. Notice how you only need to define the x values once. In the `fill_between()` function notice a fourth argument, `facecolor=`, to indicate a different color for the shaded area. The color name in single quotes, like 'green' or 'yellow' or any common color name. Run the code to see the pattern, then reverse the order of the colors and run it again."
      ]
    },
    {
      "cell_type": "code",
      "metadata": {
        "id": "Iyoq1h3vlV-a",
        "colab": {
          "base_uri": "https://localhost:8080/",
          "height": 490
        },
        "outputId": "25dc076d-3a7e-439a-bd7e-2c1cceee18d9"
      },
      "source": [
        "import matplotlib.pyplot as plt\n",
        "import numpy as np\n",
        "\n",
        "xmin = -10\n",
        "xmax = 10\n",
        "ymin = - 10\n",
        "ymax = 10\n",
        "points = 2*(xmax-xmin)\n",
        "x = np.linspace(xmin,xmax,points)\n",
        "\n",
        "fig, ax = plt.subplots()\n",
        "plt.axis([xmin,xmax,ymin,ymax]) # window size\n",
        "plt.plot([xmin,xmax],[0,0],'b') # blue x axis\n",
        "plt.plot([0,0],[ymin,ymax], 'b') # blue y axis\n",
        "\n",
        "# Only change the lines indicated below\n",
        "\n",
        "# line 1\n",
        "y1 = x+6\n",
        "plt.plot(x, y1)\n",
        "plt.fill_between(x, y1, 10, facecolor='blue') # change this line\n",
        "\n",
        "# line 2\n",
        "y2 = x+3\n",
        "plt.plot(x, y2)\n",
        "plt.fill_between(x, y2, y1, facecolor='green') # change this line\n",
        "\n",
        "# line 3\n",
        "y3 = x-1\n",
        "plt.plot(x, y3)\n",
        "plt.fill_between(x, y3, y2, facecolor='yellow') # change this line\n",
        "\n",
        "# line 4\n",
        "y4 = x-4\n",
        "plt.plot(x, y4)\n",
        "plt.fill_between(x, y4, y3, facecolor='red') # change this line\n",
        "\n",
        "plt.show()\n",
        "\n",
        "\n",
        "\n",
        "# Only change code above this line\n",
        "import math_code_test_c as test\n",
        "test.step03(In[-1].split('# Only change code above this line')[0])"
      ],
      "execution_count": null,
      "outputs": [
        {
          "output_type": "display_data",
          "data": {
            "text/plain": [
              "<Figure size 640x480 with 1 Axes>"
            ],
            "image/png": "[encoded data removed]"
          },
          "metadata": {}
        },
        {
          "output_type": "stream",
          "name": "stdout",
          "text": [
            " \n",
            "Code test passed\n",
            "Go on to the next step\n"
          ]
        }
      ]
    },
    {
      "cell_type": "markdown",
      "metadata": {
        "id": "s3z_zaNWlet8"
      },
      "source": [
        "# Step 4 - Monomials"
      ]
    },
    {
      "cell_type": "markdown",
      "metadata": {
        "id": "BTOGQIpElet-"
      },
      "source": [
        "A <i>monomial</i> means \"one thing\" or one term. In a math equation, each term has a sign, a coefficient, and a variable to an exponent. Here are some examples: In the term -3x<sup>2</sup> you can see that the sign is negative, the coefficient is 3, the variable is x, the exponent is 2. The term x also has all of these parts: the sign is positive, the coefficient is 1, the variable is x, and the exponent is 1. In the term 5, the sign is positive, the coefficient is 5, the variable is still x, and the exponent is zero (notice that you don't need to write some of these parts, like x<sup>0</sup>). You can use `sympy` to display monomials nicely. Just run the code to see how this looks.  "
      ]
    },
    {
      "cell_type": "code",
      "metadata": {
        "id": "oAPKmzeblet_",
        "colab": {
          "base_uri": "https://localhost:8080/",
          "height": 75
        },
        "outputId": "bd68a097-d79e-4a33-f9e0-99ebd55f1cf2"
      },
      "source": [
        "from sympy import symbols, Eq\n",
        "\n",
        "x = symbols('x')\n",
        "eq1 = Eq(-2*x**3 , -16)\n",
        "display(eq1)\n",
        "\n",
        "\n",
        "# Just run this code\n",
        "import math_code_test_c as test\n",
        "test.step00()"
      ],
      "execution_count": null,
      "outputs": [
        {
          "output_type": "display_data",
          "data": {
            "text/plain": [
              "Eq(-2*x**3, -16)"
            ],
            "text/latex": "$\\displaystyle - 2 x^{3} = -16$"
          },
          "metadata": {}
        },
        {
          "output_type": "stream",
          "name": "stdout",
          "text": [
            "Code test passed\n",
            "Go on to the next step\n"
          ]
        }
      ]
    },
    {
      "cell_type": "markdown",
      "metadata": {
        "id": "lnP9BOpPlhdK"
      },
      "source": [
        "# Step 5 - Polynomials"
      ]
    },
    {
      "cell_type": "markdown",
      "metadata": {
        "id": "ABF6PI7TlhdL"
      },
      "source": [
        "A \"monomial\" is one thing. A \"binomial\" is two things. A \"trinomial\" is three things. A \"polynomial\" is many things. In standard form, `x` is the variable; you put your terms in order from highest exponent to lowest; refer to the coefficients with letters in alphabetical order; and set all of this equal to `y` (because it is a function that you can graph). Example: y = ax<sup>4</sup> + bx<sup>3</sup> + cx<sup>2</sup> + dx + e <br>\n",
        "Write code to prompt for integer input and display a polynomial. Remember to use the `**` for exponents. Parts of this are already done for you."
      ]
    },
    {
      "cell_type": "code",
      "metadata": {
        "id": "USVAJRualhdL",
        "colab": {
          "base_uri": "https://localhost:8080/",
          "height": 184
        },
        "outputId": "4e6378c8-d716-4eb4-e5b7-3a15e8c28938"
      },
      "source": [
        "from IPython.display import display, Math\n",
        "from sympy import *\n",
        "\n",
        "x,y = symbols('x y')\n",
        "\n",
        "a = int(input(\"Enter coefficient A: \"))\n",
        "b = int(input(\"Enter coefficient B: \"))\n",
        "# continue this to prompt for variables c and d\n",
        "c = int(input(\"Enter coefficient C: \"))\n",
        "d = int(input(\"Enter coefficient D: \"))\n",
        "# change the next line to display the full polynomial\n",
        "y = a*x**3 + b*x**2 + c*x + d\n",
        "\n",
        "print(\"Here is your equation:\")\n",
        "display(Math(\"y = \" + latex(y)))\n",
        "\n",
        "\n",
        "# Only change code above this line\n",
        "import math_code_test_c as test\n",
        "test.step05(In[-1].split('# Only change code above this line')[0])"
      ],
      "execution_count": null,
      "outputs": [
        {
          "output_type": "stream",
          "name": "stdout",
          "text": [
            "Enter coefficient A: 3\n",
            "Enter coefficient B: 5\n",
            "Enter coefficient C: 2\n",
            "Enter coefficient D: 1\n",
            "Here is your equation:\n"
          ]
        },
        {
          "output_type": "display_data",
          "data": {
            "text/plain": [
              "<IPython.core.display.Math object>"
            ],
            "text/latex": "$\\displaystyle y = 3 x^{3} + 5 x^{2} + 2 x + 1$"
          },
          "metadata": {}
        },
        {
          "output_type": "stream",
          "name": "stdout",
          "text": [
            " \n",
            "Code test passed\n",
            "Go on to the next step\n"
          ]
        }
      ]
    },
    {
      "cell_type": "markdown",
      "metadata": {
        "id": "yoavB8H_ljVn"
      },
      "source": [
        "# Step 6 - Interactive Polynomial Graph"
      ]
    },
    {
      "cell_type": "markdown",
      "metadata": {
        "id": "3yk-TKO6ljVo"
      },
      "source": [
        "For this polynomial, y = ax<sup>2</sup> + bx + c, you can move the sliders to adjust the coefficients and see how that affects the graph. Notice how the `f()` function takes two arguments and the `interactive()` function defines two sliders. Run this code and interact with it. Then add the third coefficient (\"c\") by changing three things: the `def` line so that the function takes three arguments, the `plt.plot` line so that it includes \"+ c\", and the `interactive` line to include a third slider."
      ]
    },
    {
      "cell_type": "code",
      "metadata": {
        "id": "sOecWXLOljVo",
        "colab": {
          "base_uri": "https://localhost:8080/",
          "height": 586,
          "referenced_widgets": [
            "9e453b4413474c9697f96e59796fe399",
            "b0dcd27d651d4940aa8666bb5abee1a8",
            "c5bddffe89cc467d9a9735617a73069e",
            "afbe78d2d05a4db2ba695371fa20a082",
            "6949fc4e9477400eaec76abf9c37e532",
            "69e68cad681444929dcdef1a656e79b8",
            "dc2845acbdc6457d976378a34d389418",
            "103044da3fbe4650b18f06e7c27864f6",
            "f0480bec6f1c4ed9b0fb71a7943c7352",
            "6c7c52daa6ac4017a279621fad2b0718",
            "35ad619f3f714042a93d40283553fe32",
            "6f969e3e99db465d9d2c87c49839c14e",
            "49ab5a32733242f4845b75209024ee7b"
          ]
        },
        "outputId": "81b30eba-5d65-4787-b924-336723d73cc0"
      },
      "source": [
        "%matplotlib inline\n",
        "from ipywidgets import interactive\n",
        "import matplotlib.pyplot as plt\n",
        "import numpy as np\n",
        "\n",
        "# Change the next line:\n",
        "def f(a, b, c):\n",
        "    plt.axis([-10,10,-10,10]) # window size\n",
        "    plt.plot([-10,10],[0,0],'k') # blue x axis\n",
        "    plt.plot([0,0],[-10,10], 'k') # blue y axis\n",
        "    x = np.linspace(-10, 10, 200)\n",
        "    plt.plot(x, a*x**2+b*x+c) # Change this line\n",
        "    plt.show()\n",
        "\n",
        "# Change the next line:\n",
        "interactive_plot = interactive(f, a=(-9, 9), b=(-9, 9), c=(-9,9))\n",
        "display(interactive_plot)\n",
        "\n",
        "\n",
        "# Only change code above this line\n",
        "import math_code_test_c as test\n",
        "test.step06(In[-1].split('# Only change code above this line')[0])"
      ],
      "execution_count": null,
      "outputs": [
        {
          "output_type": "display_data",
          "data": {
            "text/plain": [
              "interactive(children=(IntSlider(value=0, description='a', max=9, min=-9), IntSlider(value=0, description='b', …"
            ],
            "application/vnd.jupyter.widget-view+json": {
              "version_major": 2,
              "version_minor": 0,
              "model_id": "9e453b4413474c9697f96e59796fe399"
            }
          },
          "metadata": {}
        },
        {
          "output_type": "stream",
          "name": "stdout",
          "text": [
            " \n",
            "Code test passed\n",
            "Go on to the next step\n"
          ]
        }
      ]
    },
    {
      "cell_type": "markdown",
      "metadata": {
        "id": "MlRfYVIylkQf"
      },
      "source": [
        "# Step 7 - Exponential Functions"
      ]
    },
    {
      "cell_type": "markdown",
      "metadata": {
        "id": "H16dtXc0lkQg"
      },
      "source": [
        "The general formula for an `exponential function` is $y = a*b^{x}$ (where `a` and `b` are constants and `x` is the variable in the exponent). The shape of exponential graphs, especially when not drawn to scale, are very consistent, so the numerical values are more important to calculate. Things that grow exponentially include populations, investments, and other \"percent increase\" situations. Run this code and use the sliders to see the slight changes. Notice the scale. Then change the slider so that `a` has negative values from -9 to -1 and see how that changes the graph."
      ]
    },
    {
      "cell_type": "code",
      "metadata": {
        "id": "8KIMFu7LlkQg",
        "colab": {
          "base_uri": "https://localhost:8080/",
          "height": 554,
          "referenced_widgets": [
            "e873d5b7f4e24edca2c82f29cc20daaf",
            "94e441ccc0984cf7806fc288f3517865",
            "27408338715046be8541ccdec7ed18d6",
            "afe7357db650466983860ef6ad06fa54",
            "3a3fc21e90d643938de655ebe41abc66",
            "9b083b929b1d425d91c5132ca0bb969b",
            "a600a92ae39743a9bf5b329d04aae9a2",
            "b02351f96a3e4f01b0789b59fbf47854",
            "cec168f9121d42e7a7c71a16419fdbb0",
            "ca6069087bba4b74820af2daba8ded05"
          ]
        },
        "outputId": "606ceee6-9b66-40b1-ccaf-015c79a0baf1"
      },
      "source": [
        "%matplotlib inline\n",
        "from ipywidgets import interactive\n",
        "import matplotlib.pyplot as plt\n",
        "import numpy as np\n",
        "\n",
        "xmin = -10\n",
        "xmax = 10\n",
        "ymin = -100\n",
        "ymax = 100\n",
        "\n",
        "def f(a, b):\n",
        "    plt.axis([xmin,xmax,ymin,ymax]) # window size\n",
        "    plt.plot([xmin,xmax],[0,0],'k') # x axis\n",
        "    plt.plot([0,0],[ymin,ymax], 'k') # y axis\n",
        "    x = np.linspace(xmin, xmax, 1000)\n",
        "    plt.plot(x, a*b**x)\n",
        "    plt.show()\n",
        "\n",
        "# Only change the next line:\n",
        "interactive_plot = interactive(f, a=(-9, -1), b=(1, 9))\n",
        "display(interactive_plot)\n",
        "\n",
        "\n",
        "# Only change code above this line\n",
        "import math_code_test_c as test\n",
        "test.step07(In[-1].split('# Only change code above this line')[0])"
      ],
      "execution_count": null,
      "outputs": [
        {
          "output_type": "display_data",
          "data": {
            "text/plain": [
              "interactive(children=(IntSlider(value=-5, description='a', max=-1, min=-9), IntSlider(value=5, description='b'…"
            ],
            "application/vnd.jupyter.widget-view+json": {
              "version_major": 2,
              "version_minor": 0,
              "model_id": "e873d5b7f4e24edca2c82f29cc20daaf"
            }
          },
          "metadata": {}
        },
        {
          "output_type": "stream",
          "name": "stdout",
          "text": [
            " \n",
            "Code test passed\n",
            "Go on to the next step\n"
          ]
        }
      ]
    },
    {
      "cell_type": "markdown",
      "metadata": {
        "id": "NGH1FcttllvS"
      },
      "source": [
        "# Step 8 - Percent Increase"
      ]
    },
    {
      "cell_type": "markdown",
      "metadata": {
        "id": "KLKYiioGllvT"
      },
      "source": [
        "One formula for calculating a percent increase is <b>A = P(1 + r)<sup>t</sup></b> where `A` would be the `y` value on a graph and `t` would be the `x` value. `A` is the <i>annuity</i>, which is the amount you have at the end. `P` is the <i>principle</i>, which is the amount you have at the beginning. `R` (usually not capitalized) is the <i>rate</i>, a percent converted to a decimal. The exponent `t` represents <i>time</i>, usually in years. The code already prompts for `P`, `r` and `t`, so use those variables to calculate the annuity value."
      ]
    },
    {
      "cell_type": "code",
      "metadata": {
        "id": "Vkp6zmxIllvT",
        "colab": {
          "base_uri": "https://localhost:8080/"
        },
        "outputId": "55fe0a18-4240-46d0-bae8-158104f49108"
      },
      "source": [
        "p = float(input(\"Starting amount = \"))\n",
        "r = float(input(\"Enter the percentage rate, converted to a decimal: \"))\n",
        "t = float(input(\"How many years will this investment grow? \"))\n",
        "\n",
        "# Change the next line to calculate the annuity\n",
        "a = p*(1+r)**t\n",
        "\n",
        "print(\"The annuity is \", a)\n",
        "\n",
        "\n",
        "# Only change code above this line\n",
        "import math_code_test_c as test\n",
        "test.step08(In[-1].split('# Only change code above this line')[0])"
      ],
      "execution_count": null,
      "outputs": [
        {
          "output_type": "stream",
          "name": "stdout",
          "text": [
            "Starting amount = 1\n",
            "Enter the percentage rate, converted to a decimal: 3\n",
            "How many years will this investment grow? 9\n",
            "The annuity is  262144.0\n",
            " \n",
            "Code test passed\n",
            "Go on to the next step\n"
          ]
        }
      ]
    },
    {
      "cell_type": "markdown",
      "metadata": {
        "id": "Sx0kwIdalmmY"
      },
      "source": [
        "# Step 9 - Percent Decrease"
      ]
    },
    {
      "cell_type": "markdown",
      "metadata": {
        "id": "Wx7fXQDKlmmZ"
      },
      "source": [
        "The percent decrease formula is very similar, except you subtract the rate, so the formula is <b>A = P(1 - r)<sup>t</sup></b>. Some things that decrease by a percent include car values, decay of some elements, and sales discounts. Use the existing variables to calculate the final value (`a`)."
      ]
    },
    {
      "cell_type": "code",
      "metadata": {
        "id": "zJmQoa6YlmmZ",
        "colab": {
          "base_uri": "https://localhost:8080/"
        },
        "outputId": "5f182a28-6da9-44dc-d999-385207ea74ac"
      },
      "source": [
        "p = float(input(\"Starting amount = \"))\n",
        "r = float(input(\"Enter the percentage rate, converted to a decimal: \"))\n",
        "t = float(input(\"How many years will this decrease continue? \"))\n",
        "\n",
        "# Change the next line to calculate the final amount\n",
        "a = p*(1-r)**t\n",
        "\n",
        "print(\"The final amount is \", a)\n",
        "\n",
        "# Only change code above this line\n",
        "import math_code_test_c as test\n",
        "test.step09(In[-1].split('# Only change code above this line')[0])"
      ],
      "execution_count": null,
      "outputs": [
        {
          "output_type": "stream",
          "name": "stdout",
          "text": [
            "Starting amount = 2\n",
            "Enter the percentage rate, converted to a decimal: 3\n",
            "How many years will this decrease continue? 6\n",
            "The final amount is  128.0\n",
            " \n",
            "Code test passed\n",
            "Go on to the next step\n"
          ]
        }
      ]
    },
    {
      "cell_type": "markdown",
      "source": [
        "#Step 10 - Compound Interest"
      ],
      "metadata": {
        "id": "S-DVSzwDvKvE"
      }
    },
    {
      "cell_type": "markdown",
      "source": [
        "When you use percent increase formulas for money in the bank, it's called <i>compound interest</i>. The amount of money you earn beyond the original principle is the interest. When the bank calculates the interest and adds it to the principle, that process is called <i>compounding</i> and it can happen any number of times per year. The formula is <b> A = P(1 + $\\frac{r}{n}$)<sup>nt</sup></b> where <i>n</i> is the number of times the bank compounds the money per year. Notice that if n = 1 then this formula is the same as the formula from an earlier step. Write the code to calculate the annuity (hint: use extra parentheses)."
      ],
      "metadata": {
        "id": "qf181QFOvCgd"
      }
    },
    {
      "cell_type": "code",
      "source": [
        "p = float(input(\"Starting amount: \"))\n",
        "r = float(input(\"Percentage rate, converted to a decimal: \"))\n",
        "t = float(input(\"Number of years this investment will grow: \"))\n",
        "n = int(input(\"Number of times compounded per year: \"))\n",
        "\n",
        "# Change the next line to calculate the annuity\n",
        "annuity = p*(1+(r/n))**(n*t)\n",
        "\n",
        "print(\"The annuity is \", annuity)\n",
        "\n",
        "\n",
        "# Only change code above this line\n",
        "import math_code_test_c as test\n",
        "test.step10(In[-1].split('# Only change code above this line')[0])"
      ],
      "metadata": {
        "id": "O0FAXixVvGXh",
        "colab": {
          "base_uri": "https://localhost:8080/"
        },
        "outputId": "6d4448c0-1385-4bda-aa2f-81542d8dfe48"
      },
      "execution_count": null,
      "outputs": [
        {
          "output_type": "stream",
          "name": "stdout",
          "text": [
            "Starting amount: 1\n",
            "Percentage rate, converted to a decimal: 2\n",
            "Number of years this investment will grow: 3\n",
            "Number of times compounded per year: 4\n",
            "The annuity is  129.746337890625\n",
            " \n",
            "Code test passed\n",
            "Go on to the next step\n"
          ]
        }
      ]
    },
    {
      "cell_type": "markdown",
      "metadata": {
        "id": "H6LTAPYplxvi"
      },
      "source": [
        "# Step 11 - Continuous Growth"
      ]
    },
    {
      "cell_type": "markdown",
      "metadata": {
        "id": "5oRPxD6olxvi"
      },
      "source": [
        "In the first formula, A = P(1 + r)<sup>t</sup>, money is compounded annually.<br>\n",
        "In the second formula, A = P(1 + $\\frac{r}{n})^{nt}$, money is compounded `n` times per year.<br>\n",
        "As `n` gets to be a really big number, you get a different formula, A = Pe$^{rt}$, for continuous growth.<br>\n",
        "In this formula, `e` is a constant, about equal to 2.718281828. The following code already prompts for the four variables once. Use those variables to compare the annuity from the three formulas. Notice you need to `import math` to use `math.e` (the best approximation of e)."
      ]
    },
    {
      "cell_type": "code",
      "metadata": {
        "id": "kf3Q0Yg7lxvk",
        "colab": {
          "base_uri": "https://localhost:8080/"
        },
        "outputId": "0567cdb0-c571-4ce7-bf63-dff496011fed"
      },
      "source": [
        "import math\n",
        "\n",
        "p = float(input(\"Principle: \"))\n",
        "r = float(input(\"Rate: \"))\n",
        "t = int(input(\"Time: \"))\n",
        "n = int(input(\"N: \"))\n",
        "\n",
        "# Only change the following three formulas:\n",
        "a_annual = p*(1+r)**t\n",
        "a_n_times = p*(1+r/n)**(n*t)\n",
        "a_continuous = p*math.e**(r*t) # use math.e in this formula\n",
        "\n",
        "# Only change the code above this line\n",
        "\n",
        "print(\"Compounded annually, anuity = \", a_annual)\n",
        "print(\"Compounded \", n, \"times per year, anuity = \", a_n_times)\n",
        "print(\"Compounded continuously, anuity = \", a_continuous)\n",
        "\n",
        "\n",
        "# Only change code above this line\n",
        "import math_code_test_c as test\n",
        "test.step11(In[-1].split('# Only change code above this line')[0])"
      ],
      "execution_count": null,
      "outputs": [
        {
          "output_type": "stream",
          "name": "stdout",
          "text": [
            "Principle: 1\n",
            "Rate: 2\n",
            "Time: 3\n",
            "N: 4\n",
            "Compounded annually, anuity =  27.0\n",
            "Compounded  4 times per year, anuity =  129.746337890625\n",
            "Compounded continuously, anuity =  403.428793492735\n",
            " \n",
            "Code test passed\n",
            "Go on to the next step\n"
          ]
        }
      ]
    },
    {
      "cell_type": "markdown",
      "metadata": {
        "id": "iaEBltZXln-Q"
      },
      "source": [
        "# Step 12 - Investments"
      ]
    },
    {
      "cell_type": "markdown",
      "source": [
        "If you have an investment where you contrubute money every month and the value also increases by a consistent percentage, you can create a loop to calculate the accumulated value. In each iteration, use the <i>simple interest</i> formula: interest = principle * rate * time. (Hint: for one month, t = $\\frac{1}{12}$ or you can just divide by 12.)"
      ],
      "metadata": {
        "id": "JTQ9uZw3UeGT"
      }
    },
    {
      "cell_type": "code",
      "metadata": {
        "id": "t7sRzH5Oln-R",
        "colab": {
          "base_uri": "https://localhost:8080/"
        },
        "outputId": "fad1e397-36f4-49cd-d073-15ef39503ab0"
      },
      "source": [
        "p = float(input(\"Starting amount: \"))\n",
        "r = float(input(\"Annual percentage rate: \"))\n",
        "t = int(input(\"Number of years: \"))\n",
        "monthly = float(input(\"Monthly contribution: \"))\n",
        "\n",
        "# Hint: keep updating this annuity variable in the loop\n",
        "annuity = p\n",
        "\n",
        "# Each iteration of the loop represents one month\n",
        "for a in range(12*t):\n",
        "    annuity = annuity + monthly\n",
        "    # Change the next line to calculate the interest\n",
        "    interest = annuity * r / 12\n",
        "    annuity = annuity + interest\n",
        "\n",
        "# Keep this line:\n",
        "print(\"Annuity = \", annuity)\n",
        "\n",
        "\n",
        "# Only change code above this line\n",
        "import math_code_test_c as test\n",
        "test.step12(p,r,t,monthly,annuity)"
      ],
      "execution_count": 5,
      "outputs": [
        {
          "output_type": "stream",
          "name": "stdout",
          "text": [
            "Starting amount: 1\n",
            "Annual percentage rate: 2\n",
            "Number of years: 3\n",
            "Monthly contribution: 4\n",
            "Annuity =  7427.596994723726\n",
            " \n",
            "Code test passed\n",
            "Go on to the next step\n"
          ]
        }
      ]
    },
    {
      "cell_type": "markdown",
      "metadata": {
        "id": "l5GwlqRdlpEu"
      },
      "source": [
        "# Step 13 - Mortgage Payments"
      ]
    },
    {
      "cell_type": "markdown",
      "metadata": {
        "id": "50OH4hj8lpEv"
      },
      "source": [
        "When borrowing a large amount of money over a long period of time, the formula to calculate monthly payments gets complicated. Here it is:<br>\n",
        " monthly payment = P$\\frac{\\frac{r}{12}(1 + \\frac{r}{12})^{12t}}{(1 + \\frac{r}{12})^{12t} - 1}$ where, as usual, `P` is the principle, `r` is the annual interest rate (as a decimal), and  `t` is the time in years. Write the code to prompt for these variables and calculate the monthly payment. Hint: Use other variables and do this in steps."
      ]
    },
    {
      "cell_type": "code",
      "metadata": {
        "id": "E5X8_WbnlpEv",
        "colab": {
          "base_uri": "https://localhost:8080/"
        },
        "outputId": "9db89a5b-35e7-49cc-a2e7-279d2c38f3d8"
      },
      "source": [
        "p = float(input(\"Amount borrowed: \"))\n",
        "r = float(input(\"Annual percentage rate: \"))\n",
        "t = float(input(\"Number of years: \"))\n",
        "\n",
        "# Write your code here and change the pmt variable\n",
        "\n",
        "pmt = p*(((r/12)*(1+r/12)**(12*t))/((1+r/12)**(12*t) - 1))\n",
        "\n",
        "\n",
        "print(\"Monthly payment = $\", pmt)\n",
        "\n",
        "\n",
        "# Only change code above this line\n",
        "import math_code_test_c as test\n",
        "test.step13(p,r,t,pmt)"
      ],
      "execution_count": 8,
      "outputs": [
        {
          "output_type": "stream",
          "name": "stdout",
          "text": [
            "Amount borrowed: 1\n",
            "Annual percentage rate: 2\n",
            "Number of years: 3\n",
            "Monthly payment = $ 0.16731748067162305\n",
            " \n",
            "Code test passed\n",
            "Go on to the next step\n"
          ]
        }
      ]
    },
    {
      "cell_type": "markdown",
      "metadata": {
        "id": "8vdTo36Pl0yv"
      },
      "source": [
        "# Step 14 - Exponents and Logarithms"
      ]
    },
    {
      "cell_type": "markdown",
      "metadata": {
        "id": "gyMju8CVl0yw"
      },
      "source": [
        "Exponential functions and logarithmic functions are inverses of each other. Here is an example: <b>2<sup>4</sup> = 16</b> and <b>log<sub>2</sub>16 = 4</b>. Both have the same information rearranged in different ways. If you had 2<sup>4</sup> = x you would be able to do that easily, but if you had 2<sup>x</sup> = 16 it would be more difficult. You could write that last equation as a logarithm: log<sub>2</sub>16 = x. In Python, you would write this as `math.log(16,2)`. In both cases, you would read it as \"the log, base 2, of 16\" and the answer would be an exponent. The logarithm is especially useful when the exponent is not a nice integer. Write code to prompt for the base and the result, then use logarithms to calculate the exponent."
      ]
    },
    {
      "cell_type": "code",
      "metadata": {
        "id": "ehtA_ATbl0yw",
        "colab": {
          "base_uri": "https://localhost:8080/"
        },
        "outputId": "e6743fe9-8d3d-48cc-d625-ba67977f5281"
      },
      "source": [
        "import math\n",
        "\n",
        "\n",
        "base = float(input(\"base: \"))\n",
        "result = float(input(\"result: \"))\n",
        "\n",
        "# Just change the next line:\n",
        "exp = math.log(result, base)\n",
        "\n",
        "print(\"exponent = \", exp)\n",
        "\n",
        "\n",
        "# Only change code above this line\n",
        "import math_code_test_c as test\n",
        "test.step14(In[-1].split('# Only change code above this line')[0])"
      ],
      "execution_count": 71,
      "outputs": [
        {
          "output_type": "stream",
          "name": "stdout",
          "text": [
            "base: 2\n",
            "result: 3\n",
            "exponent =  1.5849625007211563\n",
            " \n",
            "Code test passed\n",
            "Go on to the next step\n"
          ]
        }
      ]
    },
    {
      "cell_type": "markdown",
      "metadata": {
        "id": "U_7bv7aG4UJe"
      },
      "source": [
        "# Step 15 - Natural Logs"
      ]
    },
    {
      "cell_type": "markdown",
      "metadata": {
        "id": "uKjifZw04UJe"
      },
      "source": [
        "If you know the rate, how long will it take for something to double?\n",
        "Start with the continuous growth formula:<br>\n",
        "A = Pe<sup>rt</sup><br>\n",
        "If annuity is two times the principle, divide both sides by P\n",
        "and get this:<br>\n",
        "2 = e<sup>rt</sup><br>\n",
        "Because of the base <i>e</i>, take the natural log of both sides and get this:<br>\n",
        "ln(2) = rt<br>\n",
        "Then divide by r to solve for t or divide by t to solve for r. In Python, use `math.log()` with one argument and no base to calculate natural log (which is a logarithm with base e). So the natural log of 2 is `math.log(2)`. Just run the code to see this example."
      ]
    },
    {
      "cell_type": "code",
      "metadata": {
        "id": "dM3RxByK4UJe",
        "colab": {
          "base_uri": "https://localhost:8080/"
        },
        "outputId": "3abbd111-264a-480c-e4db-fe62e806257c"
      },
      "source": [
        "import math\n",
        "\n",
        "r = float(input(\"Enter the annual rate as a decimal: \\n\"))\n",
        "t = math.log(2)/r\n",
        "print(\"Your money will double in \", t, \" years\")\n",
        "\n",
        "\n",
        "# Just run this code\n",
        "import math_code_test_c as test\n",
        "test.step00()"
      ],
      "execution_count": 18,
      "outputs": [
        {
          "output_type": "stream",
          "name": "stdout",
          "text": [
            "Enter the annual rate as a decimal: \n",
            "1\n",
            "Your money will double in  0.6931471805599453  years\n",
            "Code test passed\n",
            "Go on to the next step\n"
          ]
        }
      ]
    },
    {
      "cell_type": "markdown",
      "metadata": {
        "id": "B7DOz9nh4XAb"
      },
      "source": [
        "# Step 16 - Common Logs"
      ]
    },
    {
      "cell_type": "markdown",
      "metadata": {
        "id": "MD3dH5yF4XAb"
      },
      "source": [
        "The <i>common log</i> is base 10, because that is our number system. Run this code a few times to see how the exponents relate to moving the decimal point to get the resulting number. Notice the floor function. Then take out the floor function to see the exact logarithm."
      ]
    },
    {
      "cell_type": "code",
      "metadata": {
        "id": "n390hG0GcEXI",
        "colab": {
          "base_uri": "https://localhost:8080/"
        },
        "outputId": "01c9a989-290f-4db4-aaf0-b604fe05023f"
      },
      "source": [
        "import math\n",
        "\n",
        "n = input('Enter a number with several digits or several decimal places: ')\n",
        "n = float(n)\n",
        "\n",
        "\n",
        "# Rund the code then change the next line:\n",
        "exp = math.log(n, 10)\n",
        "\n",
        "# This avoids a weird Python quirk:\n",
        "if n==1000:\n",
        "    exp = 3;\n",
        "\n",
        "print(\"exponent = \", exp)\n",
        "\n",
        "\n",
        "# Only change code above this line\n",
        "import math_code_test_c as test\n",
        "test.step16(In[-1].split('# Only change code above this line')[0])"
      ],
      "execution_count": 21,
      "outputs": [
        {
          "output_type": "stream",
          "name": "stdout",
          "text": [
            "Enter a number with several digits or several decimal places: 1\n",
            "exponent =  0.0\n",
            " \n",
            "Code test passed\n",
            "Go on to the next step\n"
          ]
        }
      ]
    },
    {
      "cell_type": "markdown",
      "metadata": {
        "id": "cqvLtj7t4VMN"
      },
      "source": [
        "# Step 17 - Scientific Notation"
      ]
    },
    {
      "cell_type": "markdown",
      "metadata": {
        "id": "-Uh4YmRt4VMN"
      },
      "source": [
        "<i>Scientific Notation</i> is a way of writing very large or very small numbers without all of the zeros or decimal places. For example, 45,000,000 could be written as 4.5 x 10<sup>7</sup> in scientific notation and 0.00000045 could be written as 4.5 x 10<sup>-7</sup>. The notation requires base 10, so it will always use the structure <b>n $*$ 10<sup>x</sup></b> where n is one digit then the decimal point. Change the code below to print each number in scientific notation. Determine the value of each variable by counting (not writing code). You will automate this process in the next step."
      ]
    },
    {
      "cell_type": "code",
      "metadata": {
        "id": "UyPF6dKz4VMO",
        "colab": {
          "base_uri": "https://localhost:8080/"
        },
        "outputId": "ff2b5c34-f11e-4cc5-add2-408e2a89d906"
      },
      "source": [
        "a = 156000000000\n",
        "b = 0.000000000413\n",
        "\n",
        "# Change the code below this line\n",
        "\n",
        "a1 = 1.56\n",
        "a2 = 11\n",
        "b1 = 4.13\n",
        "b2 = -10\n",
        "\n",
        "print(a, \" = \", a1, \"* 10^\", a2)\n",
        "\n",
        "print(b, \" = \", b1, \"* 10^\", b2)\n",
        "\n",
        "\n",
        "# Only change code above this line\n",
        "import math_code_test_c as test\n",
        "test.step17(b1,b2)"
      ],
      "execution_count": 23,
      "outputs": [
        {
          "output_type": "stream",
          "name": "stdout",
          "text": [
            "156000000000  =  1.56 * 10^ 11\n",
            "4.13e-10  =  4.13 * 10^ -10\n",
            " \n",
            "Code test passed\n",
            "Go on to the next step\n"
          ]
        }
      ]
    },
    {
      "cell_type": "markdown",
      "metadata": {
        "id": "GsLj1NhZl1ya"
      },
      "source": [
        "#Step 18 - Logs and Scientific Notation"
      ]
    },
    {
      "cell_type": "markdown",
      "metadata": {
        "id": "uhWbIGVml1yb"
      },
      "source": [
        "Writing code for scientific notation, you will make use of logarithms with base 10. Remember that scientific notation is in the form n $*$ 10<sup>x</sup> where `n` is one digit and then a decimal. To convert a number to scientific notation, take the log of the number and use the `floor()` function to get the expoenent (just as you did in a previous step). Divide the original number by 10 to that exponent and you get `n` (hint: dividing by 10<sup>x</sup> is the same as multiplying by 10<sup>-x</sup>). Rounding is usually necessary. Write the code to convert numbers to scientific notation."
      ]
    },
    {
      "cell_type": "code",
      "metadata": {
        "id": "y8PXrFCYl1yb",
        "colab": {
          "base_uri": "https://localhost:8080/"
        },
        "outputId": "33a6a7c3-aaaa-41c0-d26d-73f6c1a36423"
      },
      "source": [
        "import math\n",
        "\n",
        "a = .00000000000234\n",
        "b = 12300000000000\n",
        "\n",
        "# Use these three lines as a model\n",
        "x1 = math.floor(math.log(a,10))\n",
        "n1 = round(a*10**(-x1),2)\n",
        "print(\"a = \", n1, \"* 10^\", x1)\n",
        "\n",
        "# Change the next two lines to match the model\n",
        "x2 = math.floor(math.log(b,10))\n",
        "n2 = round(b*10**(-x2),2)\n",
        "print(\"b = \", n2, \"* 10^\", x2)\n",
        "\n",
        "\n",
        "\n",
        "# Only change code above this line\n",
        "import math_code_test_c as test\n",
        "test.step18(In[-1].split('# Only change code above this line')[0])"
      ],
      "execution_count": 26,
      "outputs": [
        {
          "output_type": "stream",
          "name": "stdout",
          "text": [
            "a =  2.34 * 10^ -12\n",
            "b =  1.23 * 10^ 13\n",
            " \n",
            "Code test passed\n",
            "Go on to the next step\n"
          ]
        }
      ]
    },
    {
      "cell_type": "markdown",
      "metadata": {
        "id": "d7Lc9KfMYU8Y"
      },
      "source": [
        "# Step 19 - Scientific Notation Conversion"
      ]
    },
    {
      "cell_type": "markdown",
      "metadata": {
        "id": "21gdVKfeYc5R"
      },
      "source": [
        "Now ask for a number as input, and write the code to convert that number into scientific notation. You can re-use code you used in the previous step, using `n` and `x` as variables to print n * 10^x."
      ]
    },
    {
      "cell_type": "code",
      "metadata": {
        "id": "VkOkpmrP4XAb",
        "colab": {
          "base_uri": "https://localhost:8080/"
        },
        "outputId": "88e0bff7-4c2f-494f-d0a0-860d361504ca"
      },
      "source": [
        "import math\n",
        "\n",
        "a = float(input('Enter a number to convert to scientific notation: '))\n",
        "\n",
        "# write your code here\n",
        "x = math.floor(math.log(a,10))\n",
        "n = round(a*10**(-x),2)\n",
        "print(a, \" = \")\n",
        "\n",
        "# Only change code above this line\n",
        "import math_code_test_c as test\n",
        "test.step19(In[-1].split('# Only change code above this line')[0])"
      ],
      "execution_count": 30,
      "outputs": [
        {
          "output_type": "stream",
          "name": "stdout",
          "text": [
            "Enter a number to convert to scientific notation: 1\n",
            "1.0  = \n",
            " \n",
            "Code test passed\n",
            "Go on to the next step\n"
          ]
        }
      ]
    },
    {
      "cell_type": "markdown",
      "metadata": {
        "id": "VkD30ljxlyw9"
      },
      "source": [
        "# Step 20 - Graphing Exponents and Logs"
      ]
    },
    {
      "cell_type": "markdown",
      "metadata": {
        "id": "A7YL0fIdlyw-"
      },
      "source": [
        "When not writing code, the <i>natural log</i> is written as \"ln\" and it means a logarithm with base e. Like any pair of inverse functions, the line y = e<sup>x</sup> and the line y = ln(x) are mirrored over the line y = x.  Because of the `np.linspace()` function in this code, `np.log()` works, but `math.log()` does not work here. Both log() functions in Python use e as the base by default. When using the `numpy` library, use `np.log10()` for base 10, `np.log2()` for base 2, etc. Because log functions can only have positive x values, the np.linspace() function will define a positive range for the log() function. Run this code, then change the blue line function to graph y = 2<sup>x</sup> and change the green line function to graph y = log<sub>2</sub>x and notice the similarities between the graphs."
      ]
    },
    {
      "cell_type": "code",
      "metadata": {
        "id": "fJiDmoW1lyw_",
        "colab": {
          "base_uri": "https://localhost:8080/",
          "height": 490
        },
        "outputId": "e986a2d5-2c3a-4187-f6b4-657a919a7623"
      },
      "source": [
        "import matplotlib.pyplot as plt\n",
        "import numpy as np\n",
        "import math\n",
        "\n",
        "xmin = -10\n",
        "xmax = 10\n",
        "ymin = -10\n",
        "ymax = 10\n",
        "plt.axis([xmin,xmax,ymin,ymax]) # window size\n",
        "plt.plot([xmin,xmax],[0,0],'k') # x axis\n",
        "plt.plot([0,0],[ymin,ymax], 'k') # y axis\n",
        "\n",
        "# Same x values for two lines\n",
        "x1 = np.linspace(xmin, xmax, 1000)\n",
        "\n",
        "# Blue line for y = 2**x1\n",
        "plt.plot(x1, 2**x1, 'b')  # Change this line\n",
        "\n",
        "# Red line for y = x\n",
        "plt.plot(x1, x1, 'r')\n",
        "\n",
        "# Different x values for y = log(x) because x > 0\n",
        "x2 = np.linspace(.001, xmax, 500)\n",
        "\n",
        "# Green line for y = log(x)\n",
        "plt.plot(x2, np.log2(x2), 'g')  # Change this line\n",
        "\n",
        "plt.show()\n",
        "\n",
        "\n",
        "# Only change code above this line\n",
        "import math_code_test_c as test\n",
        "test.step20(In[-1].split('# Only change code above this line')[0])"
      ],
      "execution_count": 55,
      "outputs": [
        {
          "output_type": "display_data",
          "data": {
            "text/plain": [
              "<Figure size 640x480 with 1 Axes>"
            ],
            "image/png": "[encoded data removed]"
          },
          "metadata": {}
        },
        {
          "output_type": "stream",
          "name": "stdout",
          "text": [
            " \n",
            "Code test passed\n",
            "Go on to the next step\n"
          ]
        }
      ]
    },
    {
      "cell_type": "markdown",
      "metadata": {
        "id": "bJzxcKIfz8Qt"
      },
      "source": [
        "# Step 21 - Log Application - pH Scale"
      ]
    },
    {
      "cell_type": "markdown",
      "metadata": {
        "id": "pfF3voqSz8Q9"
      },
      "source": [
        "The pH scale, for measuring acids and bases, is a logarithmic scale. The negative log of the hydrogen concentration is the pH. Example: if the hydrogen concentration is .007 then that would be 7 * 10<sup>-3</sup> and therefore a pH of 3. Write the code to prompt for hydrogen concentration and then print the pH. Hint: the <i>ceiling</i> function (`math.ceil()`) works better than rounding here."
      ]
    },
    {
      "cell_type": "code",
      "metadata": {
        "id": "tepkvSubz8Q9",
        "colab": {
          "base_uri": "https://localhost:8080/"
        },
        "outputId": "9c3c3e5d-a922-442e-86c6-d8bc47bbe769"
      },
      "source": [
        "import math\n",
        "\n",
        "decimal = float(input(\"Enter the hydrogen concentration as a decimal number: \"))\n",
        "\n",
        "# Write your code here\n",
        "h = math.ceil(-math.log(decimal, 10))\n",
        "\n",
        "print(\"pH = \", h)\n",
        "\n",
        "# Only change code above this line\n",
        "import math_code_test_c as test\n",
        "test.step21(In[-1].split('# Only change code above this line')[0])"
      ],
      "execution_count": 47,
      "outputs": [
        {
          "output_type": "stream",
          "name": "stdout",
          "text": [
            "Enter the hydrogen concentration as a decimal number: 1\n",
            "pH =  0\n",
            " \n",
            "Code test passed\n"
          ]
        }
      ]
    },
    {
      "cell_type": "markdown",
      "source": [
        "# Step 22 - Functions for the Project"
      ],
      "metadata": {
        "id": "8iWUAktvPLYp"
      }
    },
    {
      "cell_type": "markdown",
      "source": [
        "Define a function for calculating mortgage payments and a function for calculating investment balance. Use code you wrote in earlier steps. Each function should prompt for input and print the output."
      ],
      "metadata": {
        "id": "a9gRwbr-PGPC"
      }
    },
    {
      "cell_type": "code",
      "source": [
        "# Write your code here\n",
        "def fun():\n",
        "  p = float(input(\"Amount borrowed: \"))\n",
        "  r = float(input(\"Annual percentage rate: \"))\n",
        "  t = float(input(\"Number of years: \"))\n",
        "\n",
        "\n",
        "  pmt = p*(((r/12)*(1+r/12)**(12*t))/((1+r/12)**(12*t) - 1))\n",
        "\n",
        "\n",
        "  print(\"Monthly payment = $\", pmt)\n",
        "\n",
        "  p = float(input(\"Starting amount: \"))\n",
        "  r = float(input(\"Annual percentage rate: \"))\n",
        "  t = int(input(\"Number of years: \"))\n",
        "  monthly = float(input(\"Monthly contribution: \"))\n",
        "\n",
        "\n",
        "  annuity = p\n",
        "\n",
        "  for a in range(12*t):\n",
        "    annuity = annuity + monthly\n",
        "    # Change the next line to calculate the interest\n",
        "    interest = annuity * r / 12\n",
        "    annuity = annuity + interest\n",
        "\n",
        "    print(\"Annuity = \", annuity)\n",
        "\n",
        "# This step does not have a test"
      ],
      "metadata": {
        "id": "neFvvCOzO_WB"
      },
      "execution_count": 72,
      "outputs": []
    },
    {
      "cell_type": "markdown",
      "source": [
        "# Step 23 - More Functions"
      ],
      "metadata": {
        "id": "rzaQj8dEOfzb"
      }
    },
    {
      "cell_type": "markdown",
      "source": [
        "Create a function that produces an interactive polynomial graph (with sliders). Use code from an earlier step."
      ],
      "metadata": {
        "id": "C6OV8KzQOTS_"
      }
    },
    {
      "cell_type": "code",
      "source": [
        "# Write your code here\n",
        "%matplotlib inline\n",
        "from ipywidgets import interactive\n",
        "import matplotlib.pyplot as plt\n",
        "import numpy as np\n",
        "\n",
        "# Change the next line:\n",
        "def f(a, b, c):\n",
        "    plt.axis([-10,10,-10,10]) # window size\n",
        "    plt.plot([-10,10],[0,0],'k') # blue x axis\n",
        "    plt.plot([0,0],[-10,10], 'k') # blue y axis\n",
        "    x = np.linspace(-10, 10, 200)\n",
        "    plt.plot(x, a*x**2+b*x+c) # Change this line\n",
        "    plt.show()\n",
        "\n",
        "# Change the next line:\n",
        "interactive_plot = interactive(f, a=(-9, 9), b=(-9, 9), c=(-9,9))\n",
        "display(interactive_plot)\n",
        "\n",
        "\n",
        "# This step does not have a test"
      ],
      "metadata": {
        "id": "6cGh0vE1OYyC",
        "colab": {
          "base_uri": "https://localhost:8080/",
          "height": 531,
          "referenced_widgets": [
            "4bfa84e94d834b85b0420f1e300a3af0",
            "52fb5b52b5c0469f956f4ff6b5bc9dd5",
            "bdc0d2cdba04471f9d8921b418128859",
            "18c9a2e18ad149a3b67a5661690b4fff",
            "2625f967ea074b3fb59933de6672633d",
            "29ca3c78962544ddb9fef5422bd273ab",
            "075e4e8e4fc84e20bc8361fe2b58a6e8",
            "8a1ab493bcf24d7cb3a9e4aac7a90c34",
            "0d996a82bbe84aa7ab425dedf32066b5",
            "3c7cceeeb7504c43b3f298d294787766",
            "b5b3d9e68e814c67860f9dd2ee5f1b30",
            "c2e3bc097fc645d7a48eea9cfa9dda90",
            "bd4c201866dc481e8aa93a3be7af0cbe"
          ]
        },
        "outputId": "3e5c642b-b829-4de6-c392-f43219be9c9c"
      },
      "execution_count": 73,
      "outputs": [
        {
          "output_type": "display_data",
          "data": {
            "text/plain": [
              "interactive(children=(IntSlider(value=0, description='a', max=9, min=-9), IntSlider(value=0, description='b', …"
            ],
            "application/vnd.jupyter.widget-view+json": {
              "version_major": 2,
              "version_minor": 0,
              "model_id": "4bfa84e94d834b85b0420f1e300a3af0"
            }
          },
          "metadata": {}
        }
      ]
    },
    {
      "cell_type": "markdown",
      "source": [
        "# Step 24 - New Function"
      ],
      "metadata": {
        "id": "UptjjiCOTSS2"
      }
    },
    {
      "cell_type": "markdown",
      "source": [
        "Create a function to print the time required for money to double, given the rate. Use the continuous growth formula from an earlier step."
      ],
      "metadata": {
        "id": "XKXNbHzGTKAp"
      }
    },
    {
      "cell_type": "code",
      "source": [
        "# Write your code here\n",
        "r = float(input( \"Rate: \"))\n",
        "\n",
        "t = math.log(2)/r\n",
        "\n",
        "print(\"Time required for the money to double is\", t, \"years.\")\n",
        "\n",
        "# This step does not have a test"
      ],
      "metadata": {
        "id": "kWs_IpxrTYyl",
        "colab": {
          "base_uri": "https://localhost:8080/"
        },
        "outputId": "e83ef4cb-9ef4-41e6-f5d3-61e1ac19722f"
      },
      "execution_count": 53,
      "outputs": [
        {
          "output_type": "stream",
          "name": "stdout",
          "text": [
            "Rate: 3\n",
            "Time required for the money to double is 0.23104906018664842 years.\n"
          ]
        }
      ]
    },
    {
      "cell_type": "markdown",
      "source": [
        "# Step 25 - Certification Project 3"
      ],
      "metadata": {
        "id": "CRa5i8s3UCuL"
      }
    },
    {
      "cell_type": "markdown",
      "source": [
        "Build a financial app that calculates all of the following:<br>\n",
        "<ul>\n",
        "<li>Mortgage payment - given principle, rate, time</li>\n",
        "<li>Retirement account balance at time of retirement</li>\n",
        "<li>Time required for money to double - given the rate</li>\n",
        "<li>Rate of growth - given starting value, time, and ending value</li>\n",
        "</ul>"
      ],
      "metadata": {
        "id": "nngVpvqeT4U7"
      }
    },
    {
      "cell_type": "code",
      "source": [
        "# Write your code here\n",
        "import math\n",
        "from sympy import symbols\n",
        "from sympy import *\n",
        "import matplotlib.pyplot as plt\n",
        "import numpy as np\n",
        "\n",
        "# Mortgage Paymment_fun1\n",
        "def fun1():\n",
        "  p = float(input(\"Amount borrowed: \"))\n",
        "  r = float(input(\"Annual percentage rate: \"))\n",
        "  t = float(input(\"Number of years: \"))\n",
        "\n",
        "  # Write your code here and change the pmt variable\n",
        "\n",
        "  pmt = p*(((r/12)*(1+r/12)**(12*t))/((1+r/12)**(12*t) - 1))\n",
        "\n",
        "  print(\"Monthly payment = $\", pmt)\n",
        "\n",
        "# Retirement account balance at time of retirement\n",
        "\n",
        "def fun2():\n",
        "  p = float(input(\"Starting amount: \"))\n",
        "  r = float(input(\"Annual percentage rate: \"))\n",
        "  t = int(input(\"Number of years: \"))\n",
        "  monthly = float(input(\"Monthly contribution: \"))\n",
        "\n",
        "  annuity = p\n",
        "\n",
        "  for a in range(12*t):\n",
        "    annuity = annuity + monthly\n",
        "    interest = annuity*r/12\n",
        "    annuity = annuity + interest\n",
        "\n",
        "  print(\"Account balance at time of retirement is \", annuity)\n",
        "\n",
        "\n",
        "# Time required for money to double\n",
        "\n",
        "def fun3():\n",
        "  r = float(input( \"Rate: \"))\n",
        "\n",
        "  t = math.log(2)/r\n",
        "\n",
        "  print(\"Time required for the money to double is\", t, \"years.\")\n",
        "\n",
        "#Rate of growth - given starting value, time, and ending value\n",
        "\n",
        "def fun4():\n",
        "  p = float(input(\"Starting amount: \"))\n",
        "  t = float(input(\"Number of years this investment will grow: \"))\n",
        "  n = int(input(\"Number of times compounded per year: \"))\n",
        "  annuity = float(input(\"Ending value: \"))\n",
        "  r = n*((annuity/p)**(1/n*t)-1)\n",
        "  print(\"Rate of growth is\", r)\n",
        "\n",
        "\n",
        "print(\"1. Mortgage payment - given principle, rate, time\")\n",
        "print(\"2. Retirement account balance at time of retirement\")\n",
        "print(\"3. Time required for money to double - given the rate\")\n",
        "print(\"4. Rate of growth - given starting value, time, and ending value\")\n",
        "\n",
        "x = int(input(\"What would you like to calculate (1-4)? \"))\n",
        "\n",
        "if x == 1:\n",
        "  fun1()\n",
        "if x == 2:\n",
        "  fun2()\n",
        "if x == 3:\n",
        "  fun3()\n",
        "if x == 4:\n",
        "  fun4()\n",
        "\n",
        "\n"
      ],
      "metadata": {
        "id": "fa2o--pDT-Sd",
        "colab": {
          "base_uri": "https://localhost:8080/"
        },
        "outputId": "02442f41-2e70-4b9e-88b2-d95eba0c32db"
      },
      "execution_count": 59,
      "outputs": [
        {
          "output_type": "stream",
          "name": "stdout",
          "text": [
            "1. Mortgage payment - given principle, rate, time\n",
            "2. Retirement account balance at time of retirement\n",
            "3. Time required for money to double - given the rate\n",
            "4. Rate of growth - given starting value, time, and ending value\n",
            "What would you like to calculate (1-4)? 4\n",
            "Starting amount: 1\n",
            "Number of years this investment will grow: 2\n",
            "Number of times compounded per year: 3\n",
            "Ending value: 4\n",
            "Rate of growth is 4.559526299369239\n"
          ]
        }
      ]
    }
  ]
}